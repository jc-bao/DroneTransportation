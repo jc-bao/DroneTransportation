{
 "cells": [
  {
   "cell_type": "code",
   "execution_count": 4,
   "metadata": {},
   "outputs": [
    {
     "name": "stderr",
     "output_type": "stream",
     "text": [
      "\u001b[32m\u001b[1m  Activating\u001b[22m\u001b[39m project at `~/Research/code/DroneTransportation/notebook`\n"
     ]
    },
    {
     "data": {
      "text/plain": [
       "combined_dynamics (generic function with 1 method)"
      ]
     },
     "metadata": {},
     "output_type": "display_data"
    }
   ],
   "source": [
    "import Pkg\n",
    "Pkg.activate(@__DIR__)\n",
    "Pkg.instantiate()\n",
    "\n",
    "import MathOptInterface as MOI\n",
    "import Ipopt \n",
    "import ForwardDiff as FD \n",
    "import Convex as cvx \n",
    "import ECOS\n",
    "using LinearAlgebra\n",
    "using Plots\n",
    "using Random\n",
    "using JLD2\n",
    "using Test\n",
    "import MeshCat as mc \n",
    "using Printf\n",
    "\n",
    "include(joinpath(@__DIR__, \"utils\",\"fmincon.jl\"))\n",
    "include(joinpath(@__DIR__, \"utils\",\"quadrotor.jl\"))"
   ]
  },
  {
   "cell_type": "markdown",
   "metadata": {},
   "source": [
    "# Problem Setting"
   ]
  },
  {
   "cell_type": "markdown",
   "metadata": {},
   "source": [
    "## Cost"
   ]
  },
  {
   "cell_type": "code",
   "execution_count": 5,
   "metadata": {},
   "outputs": [
    {
     "data": {
      "text/plain": [
       "task_cost (generic function with 1 method)"
      ]
     },
     "metadata": {},
     "output_type": "display_data"
    }
   ],
   "source": [
    "function task_cost(params::NamedTuple, Z::Vector)::Real\n",
    "    # compute the cost \n",
    "    xend = Z[params.idx.x[end]]\n",
    "    J = (xend - params.xf)'*params.Q*(xend - params.xf)\n",
    "    for k = 1:(params.N-1)\n",
    "        x = Z[params.idx.x[k]]\n",
    "        u = Z[params.idx.u[k]]\n",
    "        J += (x - params.xf)'*params.Q*(x - params.xf) + u'*params.R*u\n",
    "    end\n",
    "    return J\n",
    "end"
   ]
  },
  {
   "cell_type": "markdown",
   "metadata": {},
   "source": [
    "## Equality constraint"
   ]
  },
  {
   "cell_type": "code",
   "execution_count": 6,
   "metadata": {},
   "outputs": [
    {
     "data": {
      "text/plain": [
       "eq_constraints (generic function with 1 method)"
      ]
     },
     "metadata": {},
     "output_type": "display_data"
    }
   ],
   "source": [
    "function hermite_simpson(params::NamedTuple, x1::Vector, x2::Vector, u, dt::Real)::Vector\n",
    "    # TODO: input hermite simpson implicit integrator residual \n",
    "    dynamics = combined_dynamics\n",
    "    x_mid =\n",
    "        0.5 * (x1 + x2) +\n",
    "        0.125 * dt * (dynamics(params.model, x1, u) - dynamics(params.model, x2, u))\n",
    "    return x1 +\n",
    "        1 / 6 *\n",
    "        dt *\n",
    "        (\n",
    "            dynamics(params.model, x1, u) +\n",
    "            4 * dynamics(params.model, x_mid, u) +\n",
    "            dynamics(params.model, x2, u)\n",
    "        ) - x2\n",
    "end\n",
    "\n",
    "function eq_constraints(params::NamedTuple, Z::Vector)::Vector\n",
    "    \n",
    "    c_dyn = zeros(eltype(Z), 22*(params.N-1))\n",
    "    # dynamic constrains\n",
    "    for i = 1:(params.N-1)\n",
    "        xi = Z[params.idx.x[i]]\n",
    "        xip1 = Z[params.idx.x[i+1]]\n",
    "        ui = Z[params.idx.u[i]]        \n",
    "        # dynamics constraints\n",
    "        c_dyn[22*(i-1) .+ (1:18)] = hermite_simpson(params, xi, xip1, ui, params.model.dt)\n",
    "        # rope force constraints\n",
    "        ui_lift = ui[1:7]\n",
    "        ui_load = ui[8:10]\n",
    "        c_dyn[22*(i-1) .+ (19:21)] = ui_lift[5:7] - ui_load\n",
    "        # distance constraints\n",
    "        r_lift = xi[1:3]\n",
    "        r_load = xi[13:15]\n",
    "        c_dyn[22*(i-1) + 22] = norm(r_lift - r_load)^2 - params.model.l^2\n",
    "    end\n",
    "\n",
    "    # initial condition\n",
    "    x1 = Z[params.idx.x[1]]\n",
    "    c_init = x1 - params.xi\n",
    "\n",
    "    # final condition\n",
    "    xf = Z[params.idx.x[end]]\n",
    "    c_end = xf - params.xf\n",
    "    \n",
    "    return [c_init; c_end; c_dyn]\n",
    "end"
   ]
  },
  {
   "cell_type": "markdown",
   "metadata": {},
   "source": [
    "## Inequality constraint"
   ]
  },
  {
   "cell_type": "code",
   "execution_count": 7,
   "metadata": {},
   "outputs": [
    {
     "data": {
      "text/plain": [
       "ineq_constraints (generic function with 1 method)"
      ]
     },
     "metadata": {},
     "output_type": "display_data"
    }
   ],
   "source": [
    "function ineq_constraints(params::NamedTuple, Z::Vector)::Vector\n",
    "    c = zeros(eltype(Z), 10*(params.N-1))\n",
    "    for i = 1:(params.N-1)\n",
    "        u = Z[params.idx.u[i]]\n",
    "        u_lift = u[1:7]\n",
    "        u_load = u[8:10]\n",
    "        # control limits\n",
    "        c[10*(i-1) .+ (1:4)] = u_lift[1:4]\n",
    "        # rope limit\n",
    "        c[10*(i-1) .+ (5:7)] = u_lift[5:7]\n",
    "        c[10*(i-1) .+ (8:10)] = u_load\n",
    "    end\n",
    "    return c\n",
    "end"
   ]
  },
  {
   "cell_type": "markdown",
   "metadata": {},
   "source": [
    "## Task"
   ]
  },
  {
   "cell_type": "code",
   "execution_count": 8,
   "metadata": {},
   "outputs": [
    {
     "data": {
      "text/plain": [
       "quadrotor_navigation"
      ]
     },
     "metadata": {},
     "output_type": "display_data"
    }
   ],
   "source": [
    "function create_idx(nx,nu,N)\n",
    "    # This function creates some useful indexing tools for Z \n",
    "    \n",
    "    # our Z vector is [xi, u0, x1, u1, …, xN]\n",
    "    nz = (N-1) * nu + N * nx # length of Z \n",
    "    x = [(i - 1) * (nx + nu) .+ (1 : nx) for i = 1:N]\n",
    "    u = [(i - 1) * (nx + nu) .+ ((nx + 1):(nx + nu)) for i = 1:(N - 1)]\n",
    "    \n",
    "    # constraint indexing for the (N-1) dynamics constraints when stacked up\n",
    "    c = [(i - 1) * (nx) .+ (1 : nx) for i = 1:(N - 1)]\n",
    "    nc = (N - 1) * nx # (N-1)*nx \n",
    "    \n",
    "    return (nx=nx,nu=nu,N=N,nz=nz,nc=nc,x= x,u = u,c = c)\n",
    "end\n",
    "\n",
    "\"\"\"\n",
    "    quadrotor navigation\n",
    "\n",
    "Function for returning collision free trajectories for 3 quadrotors. \n",
    "\n",
    "Outputs:\n",
    "    x::Vector{Vector}  # state trajectory for quad\n",
    "    u::Vector{Vector}  # control trajectory for quad\n",
    "    t_vec::Vector\n",
    "    params::NamedTuple\n",
    "\n",
    "The resulting trajectories should have dt=0.2, tf = 5.0, N = 26\n",
    "where all the x's are length 26, and the u's are length 25. \n",
    "\n",
    "\"\"\"\n",
    "function quadrotor_navigation(;verbose=true)\n",
    "    \n",
    "    # problem size \n",
    "    nx_lift = 12\n",
    "    nx_load = 6\n",
    "    nx = 12 + 6\n",
    "    nu_lift = 7\n",
    "    nu_load = 3\n",
    "    nu = 7 + 3\n",
    "    dt = 0.05\n",
    "    tf = 5.0 \n",
    "    t_vec = 0:dt:tf \n",
    "    N = length(t_vec)\n",
    "    \n",
    "    # indexing \n",
    "    idx = create_idx(nx,nu,N)\n",
    "    \n",
    "    # initial conditions and goal states \n",
    "    xi = zeros(18)\n",
    "    xi[15] = -0.5\n",
    "    xf = zeros(18)\n",
    "    xf[1] = 5.0\n",
    "    xf[13] = 5.0\n",
    "    xf[15] = -0.5\n",
    "    \n",
    "    # load all useful things into params \n",
    "    Q = 1.0 * diagm([1.0 * ones(3); 0.1 * ones(3); 1.0 * ones(3); 1.0 * ones(3); 1.0 * ones(3); 0.1 * ones(3)])\n",
    "    R = diagm([0.1 * ones(4); zeros(3); zeros(3)])\n",
    "    model = (mass=0.5,mass_load=0.5,\n",
    "        J=Diagonal([0.0023, 0.0023, 0.004]),\n",
    "        gravity=[0,0,-9.81],\n",
    "        L=0.1750, # drone arm length\n",
    "        l=0.5, # rope length\n",
    "        kf=1.0, u_max = 20.0/4.0, \n",
    "        km=0.0245,dt = dt)\n",
    "    params = (\n",
    "        N = N, \n",
    "        nx = nx, \n",
    "        nx_lift = nx_lift,\n",
    "        nx_load = nx_load,\n",
    "        nu = nu, \n",
    "        nu_lift = nu_lift,\n",
    "        nu_load = nu_load,\n",
    "        Q = Q, \n",
    "        R = R, \n",
    "        model = model, \n",
    "        xi = xi,\n",
    "        xf = xf,\n",
    "        idx = idx\n",
    "    )\n",
    "    \n",
    "    x_guess = range(params.xi, params.xf, length=params.N)\n",
    "    z0 = zeros(params.idx.nz)\n",
    "    for i = 1:params.N\n",
    "        z0[params.idx.x[i][1]] = x_guess[i][1]\n",
    "        z0[params.idx.x[i][3]] = x_guess[i][3]\n",
    "        z0[params.idx.x[i][13]] = x_guess[i][13]\n",
    "        z0[params.idx.x[i][15]] = x_guess[i][15]\n",
    "    end\n",
    "\n",
    "    diff_type = :auto\n",
    "\n",
    "    c_l = zeros(10*(N-1))\n",
    "    c_u_single = [ones(4) * params.model.u_max; ones(3)*Inf ; ones(3)*Inf]\n",
    "    c_u = repeat(c_u_single, N-1)\n",
    "\n",
    "    Z = fmincon(\n",
    "        task_cost, \n",
    "        eq_constraints,\n",
    "        ineq_constraints, \n",
    "        ones(params.idx.nz) .* -Inf,\n",
    "        ones(params.idx.nz) .* Inf,\n",
    "        c_l, \n",
    "        c_u,\n",
    "        z0, \n",
    "        params,\n",
    "        diff_type; \n",
    "        tol = 1e-6,\n",
    "        c_tol = 1e-6,\n",
    "        max_iters=10_000, \n",
    "        verbose = verbose\n",
    "    )\n",
    "    \n",
    "    # return the trajectories \n",
    "    xs = [zeros(18)  for _ = 1:params.N]\n",
    "    us = [zeros(10)  for _ = 1:(params.N-1)]\n",
    "    for i = 1:params.N\n",
    "        x = Z[params.idx.x[i]]\n",
    "        xs[i] = x[1:18]\n",
    "        if i < params.N\n",
    "            us = Z[params.idx.u[i]]\n",
    "        end\n",
    "    end\n",
    "        \n",
    "    return xs, us, t_vec, params \n",
    "end"
   ]
  },
  {
   "cell_type": "code",
   "execution_count": 9,
   "metadata": {},
   "outputs": [
    {
     "name": "stdout",
     "output_type": "stream",
     "text": [
      "---------checking dimensions of everything----------\n",
      "---------all dimensions good------------------------\n",
      "---------diff type set to :auto (ForwardDiff.jl)----\n",
      "---------testing objective gradient-----------------\n"
     ]
    },
    {
     "name": "stdout",
     "output_type": "stream",
     "text": [
      "---------testing constraint Jacobian----------------\n"
     ]
    }
   ],
   "source": [
    "xs, us, t_vec, params = quadrotor_navigation()"
   ]
  },
  {
   "cell_type": "code",
   "execution_count": null,
   "metadata": {},
   "outputs": [],
   "source": [
    "display(animate_quadrotor_load(xs, xs, params.model.dt))\n",
    "xs = hcat(xs...)\n",
    "us = hcat(us...)\n",
    "plot(t_vec, xs[1:3], title = \"Position\", label = [\"x\" \"y\" \"z\"], xlabel = \"Time [s]\", ylabel = \"Position [m]\")\n",
    "display(plot!(t_vec, xs[4:6], title = \"Velocity\", label = [\"vx\" \"vy\" \"vz\"], xlabel = \"Time [s]\", ylabel = \"Velocity [m/s]\"))"
   ]
  }
 ],
 "metadata": {
  "kernelspec": {
   "display_name": "Julia 1.9.2",
   "language": "julia",
   "name": "julia-1.9"
  },
  "language_info": {
   "file_extension": ".jl",
   "mimetype": "application/julia",
   "name": "julia",
   "version": "1.9.2"
  }
 },
 "nbformat": 4,
 "nbformat_minor": 2
}
