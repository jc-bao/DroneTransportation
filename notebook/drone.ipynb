{
 "cells": [
  {
   "cell_type": "code",
   "execution_count": 1,
   "metadata": {},
   "outputs": [
    {
     "name": "stderr",
     "output_type": "stream",
     "text": [
      "\u001b[32m\u001b[1m  Activating\u001b[22m\u001b[39m project at `~/Desktop/2024Spring/CMU16745_OptimalControl/DroneTransportation/notebook`\n"
     ]
    },
    {
     "data": {
      "text/plain": [
       "combined_dynamics (generic function with 1 method)"
      ]
     },
     "metadata": {},
     "output_type": "display_data"
    }
   ],
   "source": [
    "import Pkg\n",
    "Pkg.activate(@__DIR__)\n",
    "Pkg.instantiate()\n",
    "\n",
    "import MathOptInterface as MOI\n",
    "import Ipopt \n",
    "import ForwardDiff as FD \n",
    "import Convex as cvx \n",
    "import ECOS\n",
    "using LinearAlgebra\n",
    "using Plots\n",
    "using Random\n",
    "using JLD2\n",
    "using Test\n",
    "import MeshCat as mc \n",
    "using Printf\n",
    "\n",
    "include(joinpath(@__DIR__, \"utils\",\"fmincon.jl\"))\n",
    "include(joinpath(@__DIR__, \"utils\",\"quadrotor.jl\"))"
   ]
  },
  {
   "cell_type": "markdown",
   "metadata": {},
   "source": [
    "# Problem Setting"
   ]
  },
  {
   "cell_type": "markdown",
   "metadata": {},
   "source": [
    "## Cost"
   ]
  },
  {
   "cell_type": "code",
   "execution_count": 2,
   "metadata": {},
   "outputs": [
    {
     "data": {
      "text/plain": [
       "task_cost (generic function with 1 method)"
      ]
     },
     "metadata": {},
     "output_type": "display_data"
    }
   ],
   "source": [
    "function task_cost(params::NamedTuple, Z::Vector)::Real\n",
    "    # compute the cost \n",
    "    xend = Z[params.idx.x[end]]\n",
    "    J = (xend - params.xf)'*params.Q*(xend - params.xf)\n",
    "    for k = 1:(params.N-1)\n",
    "        x = Z[params.idx.x[k]]\n",
    "        u = Z[params.idx.u[k]]\n",
    "        J += (x - params.xf)'*params.Q*(x - params.xf) + u'*params.R*u\n",
    "    end\n",
    "    return J\n",
    "end"
   ]
  },
  {
   "cell_type": "markdown",
   "metadata": {},
   "source": [
    "## Equality constraint"
   ]
  },
  {
   "cell_type": "code",
   "execution_count": 3,
   "metadata": {},
   "outputs": [
    {
     "data": {
      "text/plain": [
       "eq_constraints (generic function with 1 method)"
      ]
     },
     "metadata": {},
     "output_type": "display_data"
    }
   ],
   "source": [
    "function hermite_simpson(params::NamedTuple, x1::Vector, x2::Vector, u, dt::Real)::Vector\n",
    "    # TODO: input hermite simpson implicit integrator residual \n",
    "    dynamics = combined_dynamics\n",
    "    x_mid =\n",
    "        0.5 * (x1 + x2) +\n",
    "        0.125 * dt * (dynamics(params.model, x1, u) - dynamics(params.model, x2, u))\n",
    "    return x1 +\n",
    "        1 / 6 *\n",
    "        dt *\n",
    "        (\n",
    "            dynamics(params.model, x1, u) +\n",
    "            4 * dynamics(params.model, x_mid, u) +\n",
    "            dynamics(params.model, x2, u)\n",
    "        ) - x2\n",
    "end\n",
    "\n",
    "function eq_constraints(params::NamedTuple, Z::Vector)::Vector\n",
    "    \n",
    "    c_dyn = zeros(eltype(Z), 22*(params.N-1))\n",
    "    # dynamic constrains\n",
    "    for i = 1:(params.N-1)\n",
    "        xi = Z[params.idx.x[i]]\n",
    "        xip1 = Z[params.idx.x[i+1]]\n",
    "        ui = Z[params.idx.u[i]]        \n",
    "        # dynamics constraints\n",
    "        c_dyn[22*(i-1) .+ (1:18)] = hermite_simpson(params, xi, xip1, ui, params.model.dt)\n",
    "        # rope force constraints\n",
    "        ui_lift = ui[1:7]\n",
    "        ui_load = ui[8:10]\n",
    "        c_dyn[22*(i-1) .+ (19:21)] = ui_lift[5:7] + ui_load\n",
    "        # distance constraints\n",
    "        r_lift = xi[1:3]\n",
    "        r_load = xi[13:15]\n",
    "        c_dyn[22*(i-1) + 22] = norm(r_lift - r_load)^2 - params.model.l^2\n",
    "    end\n",
    "\n",
    "    # initial condition\n",
    "    x1 = Z[params.idx.x[1]]\n",
    "    c_init = x1 - params.xi\n",
    "\n",
    "    # final condition\n",
    "    xf = Z[params.idx.x[end]]\n",
    "    c_end = xf - params.xf\n",
    "    \n",
    "    return [c_init; c_end; c_dyn]\n",
    "end"
   ]
  },
  {
   "cell_type": "markdown",
   "metadata": {},
   "source": [
    "## Inequality constraint"
   ]
  },
  {
   "cell_type": "code",
   "execution_count": 4,
   "metadata": {},
   "outputs": [
    {
     "data": {
      "text/plain": [
       "ineq_constraints (generic function with 1 method)"
      ]
     },
     "metadata": {},
     "output_type": "display_data"
    }
   ],
   "source": [
    "function ineq_constraints(params::NamedTuple, Z::Vector)::Vector\n",
    "    c = zeros(eltype(Z), 4*(params.N-1))\n",
    "    for i = 1:(params.N-1)\n",
    "        u = Z[params.idx.u[i]]\n",
    "        u_lift = u[1:7]\n",
    "        # control limits\n",
    "        c[4*(i-1) .+ (1:4)] = u_lift[1:4]\n",
    "    end\n",
    "    return c\n",
    "end"
   ]
  },
  {
   "cell_type": "markdown",
   "metadata": {},
   "source": [
    "## Task"
   ]
  },
  {
   "cell_type": "code",
   "execution_count": 21,
   "metadata": {},
   "outputs": [
    {
     "data": {
      "text/plain": [
       "quadrotor_navigation"
      ]
     },
     "metadata": {},
     "output_type": "display_data"
    }
   ],
   "source": [
    "function create_idx(nx,nu,N)\n",
    "    # This function creates some useful indexing tools for Z \n",
    "    \n",
    "    # our Z vector is [xi, u0, x1, u1, …, xN]\n",
    "    nz = (N-1) * nu + N * nx # length of Z \n",
    "    x = [(i - 1) * (nx + nu) .+ (1 : nx) for i = 1:N]\n",
    "    u = [(i - 1) * (nx + nu) .+ ((nx + 1):(nx + nu)) for i = 1:(N - 1)]\n",
    "    \n",
    "    # constraint indexing for the (N-1) dynamics constraints when stacked up\n",
    "    c = [(i - 1) * (nx) .+ (1 : nx) for i = 1:(N - 1)]\n",
    "    nc = (N - 1) * nx # (N-1)*nx \n",
    "    \n",
    "    return (nx=nx,nu=nu,N=N,nz=nz,nc=nc,x= x,u = u,c = c)\n",
    "end\n",
    "\n",
    "\"\"\"\n",
    "    quadrotor navigation\n",
    "\n",
    "Function for returning collision free trajectories for 3 quadrotors. \n",
    "\n",
    "Outputs:\n",
    "    x::Vector{Vector}  # state trajectory for quad\n",
    "    u::Vector{Vector}  # control trajectory for quad\n",
    "    t_vec::Vector\n",
    "    params::NamedTuple\n",
    "\n",
    "The resulting trajectories should have dt=0.2, tf = 5.0, N = 26\n",
    "where all the x's are length 26, and the u's are length 25. \n",
    "\n",
    "\"\"\"\n",
    "function quadrotor_navigation(;verbose=true)\n",
    "    \n",
    "    # problem size \n",
    "    nx_lift = 12\n",
    "    nx_load = 6\n",
    "    nx = 12 + 6\n",
    "    nu_lift = 7\n",
    "    nu_load = 3\n",
    "    nu = 7 + 3\n",
    "    dt = 0.2\n",
    "    tf = 6.0\n",
    "    t_vec = 0:dt:tf \n",
    "    N = length(t_vec)\n",
    "    \n",
    "    # indexing \n",
    "    idx = create_idx(nx,nu,N)\n",
    "    \n",
    "    # initial conditions and goal states \n",
    "    xi = zeros(18)\n",
    "    xi[1] = -1.0\n",
    "    xi[13] = -1.0\n",
    "    xi[15] = -0.5\n",
    "    xf = zeros(18)\n",
    "    xf[1] = 1.0\n",
    "    xf[13] = 1.0\n",
    "    xf[15] = -0.5\n",
    "    \n",
    "    # load all useful things into params \n",
    "    Q = 1.0 * diagm([1.0 * ones(3); 0.1 * ones(3); 1.0 * ones(3); 1.0 * ones(3); 1.0 * ones(3); 0.1 * ones(3)])\n",
    "    R = diagm([0.1 * ones(4); zeros(3); zeros(3)])\n",
    "    model = (mass=0.5,mass_load=0.5,\n",
    "        J=Diagonal([0.0023, 0.0023, 0.004]),\n",
    "        gravity=[0,0,-9.81],\n",
    "        L=0.1750, # drone arm length\n",
    "        l=0.5, # rope length\n",
    "        kf=1.0, u_max = 20.0/4.0, \n",
    "        km=0.0245,dt = dt)\n",
    "    params = (\n",
    "        N = N, \n",
    "        nx = nx, \n",
    "        nx_lift = nx_lift,\n",
    "        nx_load = nx_load,\n",
    "        nu = nu, \n",
    "        nu_lift = nu_lift,\n",
    "        nu_load = nu_load,\n",
    "        Q = Q, \n",
    "        R = R, \n",
    "        model = model, \n",
    "        xi = xi,\n",
    "        xf = xf,\n",
    "        idx = idx\n",
    "    )\n",
    "\n",
    "    c_l = zeros(4*(N-1))\n",
    "    c_u = repeat(ones(4) .* params.model.u_max, N-1)\n",
    "\n",
    "    # test constrain feasibility\n",
    "    # test constrains\n",
    "    x_test = zeros(18)\n",
    "    x_test[15] = -0.5\n",
    "    u_lift1_test = ones(4).*(1.0*9.81/4.0)\n",
    "    u_lift2_test = [0.0, 0.0, -0.5*9.81]\n",
    "    u_load_test = [0.0, 0.0, 0.5*9.81]\n",
    "    u_test = [u_lift1_test; u_lift2_test; u_load_test]\n",
    "    xu_test = [x_test; u_test]\n",
    "    Z_test = repeat(xu_test, N-1)\n",
    "    Z_test = [Z_test; x_test]\n",
    "    eq_cons = eq_constraints(params, Z_test)\n",
    "    \n",
    "    @test all(eq_constraints(params, Z_test)[37:end] .≈ 0.0)\n",
    "    @test all(ineq_constraints(params, Z_test) ≤ c_u)\n",
    "    @test all(ineq_constraints(params, Z_test) ≥ c_l)\n",
    "    \n",
    "    x_guess = range(params.xi, params.xf, length=params.N)\n",
    "    z0 = zeros(params.idx.nz)\n",
    "    for i = 1:params.N\n",
    "        z0[params.idx.x[i][1]] = x_guess[i][1]\n",
    "        z0[params.idx.x[i][3]] = x_guess[i][3]\n",
    "        z0[params.idx.x[i][13]] = x_guess[i][13]\n",
    "        z0[params.idx.x[i][15]] = x_guess[i][15]\n",
    "        if i < params.N\n",
    "            z0[params.idx.u[i]][1:4] = ones(4).*(1.0*9.81/4.0)\n",
    "            z0[params.idx.u[i]][7] = -0.5*9.81\n",
    "            z0[params.idx.u[i]][10] = 0.5*9.81\n",
    "        end\n",
    "    end\n",
    "    \n",
    "    diff_type = :auto\n",
    "    \n",
    "    Z = fmincon(\n",
    "        task_cost, \n",
    "        eq_constraints,\n",
    "        ineq_constraints, \n",
    "        ones(params.idx.nz) .* -Inf,\n",
    "        ones(params.idx.nz) .* Inf,\n",
    "        c_l, \n",
    "        c_u,\n",
    "        z0, \n",
    "        params,\n",
    "        diff_type; \n",
    "        tol = 1e-6,\n",
    "        c_tol = 1e-6,\n",
    "        max_iters=1_000, \n",
    "        verbose = verbose\n",
    "        )\n",
    "        \n",
    "    # return the trajectories \n",
    "    xs = [zeros(18)  for _ = 1:params.N]\n",
    "    us = [zeros(10)  for _ = 1:(params.N-1)]\n",
    "    for i = 1:params.N\n",
    "        x = Z[params.idx.x[i]]\n",
    "        xs[i] = x[1:18]\n",
    "        if i < params.N\n",
    "            us = Z[params.idx.u[i]]\n",
    "        end\n",
    "    end\n",
    "    \n",
    "    return xs, us, t_vec, params \n",
    "end"
   ]
  },
  {
   "cell_type": "code",
   "execution_count": 22,
   "metadata": {},
   "outputs": [
    {
     "name": "stdout",
     "output_type": "stream",
     "text": [
      "---------checking dimensions of everything----------\n",
      "---------all dimensions good------------------------\n",
      "---------diff type set to :auto (ForwardDiff.jl)----\n",
      "---------testing objective gradient-----------------\n",
      "---------testing constraint Jacobian----------------\n",
      "---------successfully compiled both derivatives-----\n",
      "---------IPOPT beginning solve----------------------\n",
      "This is Ipopt version 3.14.14, running with linear solver MUMPS 5.6.2.\n",
      "\n",
      "Number of nonzeros in equality constraint Jacobian...:   597168\n",
      "Number of nonzeros in inequality constraint Jacobian.:   102960\n",
      "Number of nonzeros in Lagrangian Hessian.............:        0\n",
      "\n",
      "Total number of variables............................:      858\n",
      "                     variables with only lower bounds:        0\n",
      "                variables with lower and upper bounds:        0\n",
      "                     variables with only upper bounds:        0\n",
      "Total number of equality constraints.................:      696\n",
      "Total number of inequality constraints...............:      120\n",
      "        inequality constraints with only lower bounds:        0\n",
      "   inequality constraints with lower and upper bounds:      120\n",
      "        inequality constraints with only upper bounds:        0\n",
      "\n",
      "iter    objective    inf_pr   inf_du lg(mu)  ||d||  lg(rg) alpha_du alpha_pr  ls\n",
      "   0  8.4044444e+01 1.96e+00 4.00e+00   0.0 0.00e+00    -  0.00e+00 0.00e+00   0\n",
      "   1  1.6177776e+02 4.08e-02 5.98e+07   0.4 4.90e+00    -  9.84e-01 1.00e+00f  1\n",
      "   2r 1.6177776e+02 4.08e-02 9.72e+02   0.1 0.00e+00    -  0.00e+00 4.77e-07R 22\n",
      "   3r 1.6416986e+02 9.79e-03 3.42e+02  -0.6 6.54e+00    -  1.00e+00 2.85e-02f  1\n",
      "   4  1.4058726e+02 4.37e-01 8.66e+03  -5.9 5.11e+00  -2.0 4.78e-01 4.56e-01f  2\n",
      "   5  1.5867054e+02 1.63e-01 4.39e+01  -0.7 1.91e+00  -2.5 1.00e+00 1.00e+00h  1\n",
      "   6  1.2160353e+02 5.07e-02 1.18e+02  -1.2 1.04e+00  -1.1 1.00e+00 1.00e+00f  1\n",
      "   7  1.2028697e+02 2.89e-03 6.41e+01  -2.4 2.55e-01  -1.6 1.00e+00 1.00e+00f  1\n",
      "   8  1.1854112e+02 2.30e-02 2.31e+01  -3.1 7.49e-01  -2.6 9.99e-01 1.00e+00f  1\n",
      "   9  1.2056702e+02 1.09e-02 4.05e+01  -3.7 1.07e+00  -3.1 1.00e+00 1.00e+00H  1\n",
      "iter    objective    inf_pr   inf_du lg(mu)  ||d||  lg(rg) alpha_du alpha_pr  ls\n",
      "  10  1.1739905e+02 1.01e-02 8.32e+00  -3.8 8.13e-01    -  1.00e+00 1.00e+00f  1\n",
      "  11  1.1726700e+02 9.42e-04 1.67e+00  -5.3 1.30e-01    -  1.00e+00 1.00e+00h  1\n",
      "  12  1.1717066e+02 7.67e-04 5.46e-01  -6.8 1.71e-01    -  1.00e+00 1.00e+00f  1\n",
      "  13  1.1710818e+02 1.09e-03 8.24e-01  -8.1 5.20e-01    -  1.00e+00 5.00e-01f  2\n",
      "  14  1.1710192e+02 1.75e-03 1.08e+00  -9.5 4.57e-01    -  1.00e+00 5.00e-01f  2\n",
      "  15  1.1711753e+02 1.71e-03 1.67e+00 -10.9 1.70e-01    -  1.00e+00 1.00e+00h  1\n",
      "  16  1.1704815e+02 5.96e-04 1.42e-01 -10.9 1.10e-01    -  1.00e+00 1.00e+00h  1\n",
      "  17  1.1704924e+02 1.93e-04 2.80e-01 -11.0 2.76e-02    -  1.00e+00 1.00e+00h  1\n",
      "  18  1.1704620e+02 4.39e-05 7.03e-02 -11.0 1.61e-02    -  1.00e+00 1.00e+00h  1\n",
      "  19  1.1704569e+02 2.57e-06 4.82e-02 -11.0 5.99e-03    -  1.00e+00 1.00e+00h  1\n",
      "iter    objective    inf_pr   inf_du lg(mu)  ||d||  lg(rg) alpha_du alpha_pr  ls\n",
      "  20  1.1705020e+02 1.05e-06 4.08e-01 -11.0 6.04e-02    -  1.00e+00 1.00e+00H  1\n",
      "  21  1.1704498e+02 1.33e-05 2.21e-01 -11.0 3.93e-02    -  1.00e+00 1.00e+00f  1\n",
      "  22  1.1704387e+02 2.04e-05 2.97e-02 -11.0 1.65e-02    -  1.00e+00 1.00e+00h  1\n",
      "  23  1.1704381e+02 4.41e-06 3.45e-02 -11.0 8.99e-03    -  1.00e+00 1.00e+00h  1\n",
      "  24  1.1704362e+02 9.61e-07 2.23e-02 -11.0 1.48e-02    -  1.00e+00 1.00e+00h  1\n",
      "  25  1.1704442e+02 7.16e-07 1.86e-01 -11.0 8.10e-02    -  1.00e+00 1.00e+00H  1\n",
      "  26  1.1704489e+02 2.35e-07 1.04e-01 -11.0 3.79e-02    -  1.00e+00 1.00e+00H  1\n",
      "  27  1.1704323e+02 7.44e-05 9.70e-02 -11.0 3.90e-02    -  1.00e+00 1.00e+00f  1\n",
      "  28  1.1704338e+02 1.24e-05 5.45e-02 -11.0 1.74e-02    -  1.00e+00 1.00e+00h  1\n",
      "  29  1.1704277e+02 1.27e-05 1.49e-02 -11.0 1.85e-02    -  1.00e+00 1.00e+00h  1\n",
      "iter    objective    inf_pr   inf_du lg(mu)  ||d||  lg(rg) alpha_du alpha_pr  ls\n",
      "  30  1.1704275e+02 2.90e-06 2.05e-02 -11.0 8.61e-03    -  1.00e+00 1.00e+00h  1\n",
      "  31  1.1704260e+02 5.06e-06 3.18e-02 -11.0 1.92e-02    -  1.00e+00 1.00e+00h  1\n",
      "  32  1.1705068e+02 3.58e-06 2.25e-01 -11.0 2.23e-01    -  1.00e+00 1.00e+00H  1\n",
      "  33  1.1704954e+02 1.04e-03 2.25e-01 -11.0 4.89e-02    -  1.00e+00 1.00e+00f  1\n",
      "  34  1.1704194e+02 3.38e-04 2.06e-01 -11.0 6.99e-02    -  1.00e+00 1.00e+00h  1\n",
      "  35  1.1704430e+02 6.24e-05 1.16e-01 -11.0 4.30e-02    -  1.00e+00 1.00e+00h  1\n",
      "  36  1.1704175e+02 3.91e-05 2.61e-02 -11.0 2.18e-02    -  1.00e+00 1.00e+00h  1\n",
      "  37  1.1704177e+02 1.66e-06 1.42e-02 -11.0 4.76e-03    -  1.00e+00 1.00e+00h  1\n",
      "  38  1.1704171e+02 1.89e-07 7.56e-03 -11.0 6.70e-03    -  1.00e+00 1.00e+00h  1\n",
      "  39  1.1704240e+02 4.98e-08 1.26e-02 -11.0 4.96e-02    -  1.00e+00 1.00e+00H  1\n",
      "iter    objective    inf_pr   inf_du lg(mu)  ||d||  lg(rg) alpha_du alpha_pr  ls\n",
      "  40  1.1704193e+02 4.97e-05 3.87e-02 -11.0 1.31e-02    -  1.00e+00 1.00e+00f  1\n",
      "  41  1.1704147e+02 5.66e-06 2.39e-02 -11.0 1.08e-02    -  1.00e+00 1.00e+00h  1\n",
      "  42  1.1704148e+02 5.58e-06 2.74e-02 -11.0 6.40e-03    -  1.00e+00 1.00e+00h  1\n",
      "  43  1.1704145e+02 1.12e-06 1.14e-02 -11.0 7.77e-03    -  1.00e+00 1.00e+00h  1\n",
      "  44  1.1704149e+02 7.52e-08 2.31e-02 -11.0 1.98e-02    -  1.00e+00 1.00e+00H  1\n",
      "  45  1.1704171e+02 1.20e-09 3.15e-02 -11.0 9.53e-03    -  1.00e+00 1.00e+00H  1\n",
      "  46  1.1704137e+02 5.33e-06 1.38e-02 -11.0 1.10e-02    -  1.00e+00 1.00e+00f  1\n",
      "  47  1.1704140e+02 3.68e-07 6.96e-03 -11.0 7.20e-03    -  1.00e+00 1.00e+00h  1\n",
      "  48  1.1704139e+02 3.90e-07 6.36e-03 -11.0 9.46e-03    -  1.00e+00 1.00e+00h  1\n",
      "  49  1.1704169e+02 6.30e-08 3.87e-02 -11.0 2.07e-02    -  1.00e+00 1.00e+00H  1\n",
      "iter    objective    inf_pr   inf_du lg(mu)  ||d||  lg(rg) alpha_du alpha_pr  ls\n",
      "  50  1.1704145e+02 3.76e-06 2.67e-02 -11.0 1.22e-02    -  1.00e+00 1.00e+00h  1\n",
      "  51  1.1704139e+02 9.83e-06 2.83e-02 -11.0 7.05e-03    -  1.00e+00 1.00e+00h  1\n",
      "  52  1.1704135e+02 6.35e-07 6.19e-03 -11.0 4.87e-03    -  1.00e+00 1.00e+00h  1\n",
      "  53  1.1704137e+02 4.70e-09 7.81e-03 -11.0 4.00e-03    -  1.00e+00 1.00e+00H  1\n",
      "\n",
      "Number of Iterations....: 53\n",
      "\n",
      "                                   (scaled)                 (unscaled)\n",
      "Objective...............:   1.1704136614402583e+02    1.1704136614402583e+02\n",
      "Dual infeasibility......:   7.8125000000143219e-03    7.8125000000143219e-03\n",
      "Constraint violation....:   4.7006097902979604e-09    4.7006097902979604e-09\n",
      "Variable bound violation:   0.0000000000000000e+00    0.0000000000000000e+00\n",
      "Complementarity.........:   9.9999999999994485e-12    9.9999999999994485e-12\n",
      "Overall NLP error.......:   4.7006097902979604e-09    7.8125000000143219e-03\n",
      "\n",
      "\n",
      "Number of objective function evaluations             = 104\n",
      "Number of objective gradient evaluations             = 54\n",
      "Number of equality constraint evaluations            = 104\n",
      "Number of inequality constraint evaluations          = 104\n",
      "Number of equality constraint Jacobian evaluations   = 55\n",
      "Number of inequality constraint Jacobian evaluations = 55\n",
      "Number of Lagrangian Hessian evaluations             = 0\n",
      "Total seconds in IPOPT                               = 31.216\n",
      "\n",
      "EXIT: Optimal Solution Found.\n"
     ]
    },
    {
     "data": {
      "text/plain": [
       "([[-1.0000000000000002, -3.334103147676544e-21, -7.187959391180333e-15, -3.803617184257052e-16, 2.091798404303569e-16, -1.9878307651410306e-15, 9.870577960004313e-18, 7.684808442268257e-16, -2.9425025730721832e-18, 1.9578002817944648e-23, -1.0777412377285411e-17, -3.5388018390737687e-22, -0.9999999999999998, 1.065189320210148e-21, -0.49999999999999284, 7.769877984588723e-18, -9.70915042113859e-22, 2.3355227299244926e-15], [-0.9950402709299295, 1.8468059670310173e-8, -0.03355970126238125, 0.13929835050783582, 2.9803247171076874e-7, -0.3430650680707081, -5.362330710283766e-8, 0.041555579910683184, -1.3345615596188784e-8, -2.1217438694117696e-6, 1.6611477366936056, -5.327236588976445e-7, -0.995955681646628, -6.7907880610071606e-9, -0.5335588632917311, 0.040443183533716925, -6.790788103836386e-8, -0.335588632917599], [-0.9223492143502692, 9.355965991938529e-8, -0.03602770117223697, 0.7254631077865933, -1.1304762354746733e-8, 0.28392054077620654, 6.773479324855726e-8, 0.08114118399988599, -6.26217534144939e-8, 7.05498439382121e-6, -0.08398810732722638, -4.6928552631293263e-7, -0.9002052305123711, 6.568363465363966e-8, -0.5355371046953387, 0.9170613278088493, 7.92652108367175e-7, 0.3158062188817416], [-0.7032939152326622, -3.75486733692007e-8, 0.026781117999796822, 1.4106030952192181, -1.2573652098496405e-6, 0.36002416383645136, 5.559060009631489e-8, 0.060707659582084836, -5.202572635777431e-8, -7.470296889143859e-6, -0.729225559959043, 1.116871904265695e-6, -0.6640035338342393, 1.312733212296476e-7, -0.47167275756584454, 1.444955638972487, -1.3675524260693904e-7, 0.32283725241298317], [-0.3687911387741774, -2.1005441886668442e-7, 0.0669084361290267, 1.849702617899407, -1.739408724812483e-8, 0.0555220768502313, -1.3317381675597235e-7, 0.02282172176416916, 8.314858480887816e-8, -4.3641072444172705e-7, -0.7833937265882733, 3.3287955183325814e-6, -0.36200266438027096, 7.355334200446462e-8, -0.43304547822268336, 1.5750530555671787, -4.4044454920370574e-7, 0.06343554101884531], [-0.0034848276820819033, -1.1252098101870674e-7, 0.06085996210832554, 1.7216329222589228, 7.264350060787214e-7, -0.11415705439637407, -3.063236839570321e-8, -0.01150356186519035, 2.4236111466351577e-7, 4.001565924728601e-6, -0.5894375316077332, 2.744220497568457e-6, -0.027256623185234485, 5.5212530116901845e-8, -0.4385746188824686, 1.772407356383178, 2.5703643029602615e-7, -0.11872694761691673], [0.3283677574989951, 8.907720341241332e-8, 0.037419412502839915, 1.537329603790219, 1.080570751027368e-6, -0.1257225703010525, 3.242867788136389e-8, -0.03433387595172612, 3.259598399360858e-7, -1.9024075837430565e-6, -0.3232543803434667, 5.725758403053412e-7, 0.307931187591264, 8.13544907842309e-9, -0.4621627592179516, 1.5794707513818176, -7.278072406808425e-7, -0.11715445573768614], [0.6079366177382093, 1.7019736226802152e-7, 0.01956390459330398, 1.2311241408666191, -1.3163655154905066e-7, -0.05715650150915951, -2.3782247380369065e-8, -0.0444351504826089, 3.1536015870920843e-7, -6.43385122525184e-7, -0.0801668067274606, -8.0258112966419e-7, 0.5884958050543412, -5.811724233099164e-8, -0.4800580084404797, 1.2261754232489457, 6.528032658659584e-8, -0.0617980364878289], [0.8099401223729013, 9.433085584458385e-8, 0.012548649989937757, 0.7895094257457866, -6.368281162484705e-7, -0.012888876616476636, -1.638399371569194e-8, -0.04421139731673708, 2.7431761157977214e-7, 7.96685527936562e-7, 0.08909937811001656, -8.55695431929591e-7, 0.8047742054338387, 3.982628970129566e-9, -0.48742466297811765, 0.9366085805460396, 5.557183864246902e-7, -0.011868508888311981], [0.9418171842105644, 5.458998031768118e-9, 0.011302483366258616, 0.5467993221252578, -2.7267006058239134e-7, 0.0033190871867107142, -2.8807217651617745e-9, -0.03754517548127982, 2.473526335217113e-7, -2.1325941620071938e-7, 0.17710362790304904, -2.6740956778193534e-7, 0.95060668479891, 5.260639705462918e-8, -0.48862025522181685, 0.5217162131046776, -6.9480705719509e-8, -8.74135489254859e-5]  …  [0.9932045550661649, -2.0348091612713338e-7, -6.391242101136136e-6, 0.01180439421089625, 1.2633613525890582e-7, 0.0002443391023237392, -2.0576358375665703e-9, 0.0003029489024920109, 1.2333997340886714e-7, -8.082727824780954e-8, -0.01095985776946446, -1.4828498869849654e-6, 0.9933369544850162, 1.4077020806107823e-8, -0.5000063751268022, 0.0067459462886235695, -2.8952215896686835e-8, -0.0009649421267044602], [0.994673793762355, -1.8868494443152637e-7, -6.176930516125858e-5, 0.0018294100092191767, 2.0414397490019913e-8, -0.0007976935524083242, -1.6692481267333884e-9, -0.00010167228336709833, -4.435282398455763e-9, 9.433582735570983e-8, -0.0052249892663134385, -3.6282662588437463e-6, 0.9958041085753272, 2.297197907433979e-8, -0.5000604917957062, 0.017925594614486902, 1.1790179857876603e-7, 0.00042377543793720726], [0.9956991338044153, -1.7178565310907284e-7, -7.486519117459793e-5, 0.007925775823275496, 1.3946165013620857e-7, 0.0006663423991920226, 1.8520247005718161e-9, -0.00029209467105709283, -6.449089810168021e-8, 4.713601427490304e-8, -0.002391905921586465, 1.2259870702019463e-6, 0.9984519884237709, 3.4223377520257006e-8, -0.5000672868265822, 0.008553203869951719, -5.387814118623041e-9, -0.0004917257469754362], [0.9972345121241752, -1.5294051687384028e-7, -2.1673002325306364e-5, 0.007311203105888959, 5.284059409545556e-8, -0.00013456744388319576, 3.133445199097442e-10, -0.0003367366683049806, 4.342529949862546e-8, -1.057813893835554e-7, 0.0006062262089426482, 3.0907096322193944e-6, 0.9997108800179094, 3.911835953299893e-8, -0.5000155403715812, 0.004035712071432348, 5.4337634246011285e-8, 0.0010091902972653771], [0.9979924430161553, -1.3526979829386882e-7, 4.9032231469218325e-5, 0.0004235453987011606, 1.3357482183491542e-7, 0.0008418105927729132, -3.4116717689100724e-9, -0.0002773129642352386, 7.731426913701973e-8, -4.1763471629001786e-8, 0.00177072172923379, -1.7350469997044043e-6, 1.000717306201889, 4.4702526059669105e-8, -0.49994354264996343, 0.006028549768365048, 1.5040310206139577e-9, -0.0002892130813716081], [1.0010019672052717, -6.419375812546732e-8, 7.453559571016181e-5, 0.02992885575983963, 5.668813372419342e-7, -0.0005865422566630703, 5.919298653497619e-10, -0.00017899516959168335, -5.918358238834232e-8, 1.9970453431618607e-7, 0.0021619898486020016, -3.7249133951657738e-6, 0.998611871763312, 5.4540572272788355e-9, -0.4999197522528739, -0.0270828941541386, -3.9398871934427486e-7, 0.0005271170525548972], [1.0041271044208797, 8.833767092596037e-9, 2.2619947702037893e-6, 0.0015614960906763296, 1.5512096473369685e-7, -0.0001360663097070267, 3.76322057101728e-9, -8.762590956514707e-5, -1.676746482096192e-7, -7.515495518561307e-8, 0.0014927804849223635, -6.147940080511946e-7, 0.995827197550526, -3.7339442372322884e-8, -0.499928845536058, -0.0007638479737263006, -3.3946276651886106e-8, -0.000618049884687219], [1.0016793389096728, 5.652866346350976e-9, -2.269546581044331e-5, -0.0258600936131403, -1.8646039454474453e-7, -0.00011347007046438553, 3.5586001955858174e-9, -1.9186354213986358e-5, -1.1151461703858827e-7, 6.616608108320014e-8, 0.0012448017202800765, 2.8611825481803575e-6, 0.9983343733813914, -1.4769431052149911e-8, -0.5000115068403642, 0.025835606282385702, 2.5964638985365924e-7, -0.00020856315808082527], [0.9995425937895065, -6.2795017572827345e-9, -1.7021314637603632e-5, 0.004558454161697432, 6.96147589885159e-8, 0.00017021333218800993, 2.606920489956016e-9, 5.96684439755854e-6, -1.999240800480716e-8, -1.0428145046785663e-7, -0.00023867377594406932, 7.996963193998699e-7, 1.0004589670048154, 5.597603966369832e-9, -0.500016181578042, -0.004589670048143688, -5.597603966846855e-8, 0.00016181578100904064], [0.9999999999999991, 4.425827764619537e-19, -2.9315282943399084e-14, 4.247036730860303e-17, 4.736682372249428e-21, 2.8962874776042216e-15, 8.967703456977464e-21, -7.411971487888453e-16, -4.897192018490967e-17, -1.351752361659181e-22, 1.4008218001486303e-17, -2.2695233129395138e-17, 1.000000000000001, -4.67561046019715e-19, -0.49999999999997075, -7.44992479641607e-18, 1.8441431750306333e-21, -2.934671318928782e-15]], [2.4522844766081944, 2.452292648579294, 2.4523001608848993, 2.452292641727122, -0.01147417512035919, -1.3994009917118156e-7, -4.904595460547471, 0.011474175120359182, 1.3994009917118029e-7, 4.90459546054747], 0.0:0.2:6.0, (N = 31, nx = 18, nx_lift = 12, nx_load = 6, nu = 10, nu_lift = 7, nu_load = 3, Q = [1.0 0.0 … 0.0 0.0; 0.0 1.0 … 0.0 0.0; … ; 0.0 0.0 … 0.1 0.0; 0.0 0.0 … 0.0 0.1], R = [0.1 0.0 … 0.0 0.0; 0.0 0.1 … 0.0 0.0; … ; 0.0 0.0 … 0.0 0.0; 0.0 0.0 … 0.0 0.0], model = (mass = 0.5, mass_load = 0.5, J = [0.0023 0.0 0.0; 0.0 0.0023 0.0; 0.0 0.0 0.004], gravity = [0.0, 0.0, -9.81], L = 0.175, l = 0.5, kf = 1.0, u_max = 5.0, km = 0.0245, dt = 0.2), xi = [-1.0, 0.0, 0.0, 0.0, 0.0, 0.0, 0.0, 0.0, 0.0, 0.0, 0.0, 0.0, -1.0, 0.0, -0.5, 0.0, 0.0, 0.0], xf = [1.0, 0.0, 0.0, 0.0, 0.0, 0.0, 0.0, 0.0, 0.0, 0.0, 0.0, 0.0, 1.0, 0.0, -0.5, 0.0, 0.0, 0.0], idx = (nx = 18, nu = 10, N = 31, nz = 858, nc = 540, x = UnitRange{Int64}[1:18, 29:46, 57:74, 85:102, 113:130, 141:158, 169:186, 197:214, 225:242, 253:270  …  589:606, 617:634, 645:662, 673:690, 701:718, 729:746, 757:774, 785:802, 813:830, 841:858], u = UnitRange{Int64}[19:28, 47:56, 75:84, 103:112, 131:140, 159:168, 187:196, 215:224, 243:252, 271:280  …  579:588, 607:616, 635:644, 663:672, 691:700, 719:728, 747:756, 775:784, 803:812, 831:840], c = UnitRange{Int64}[1:18, 19:36, 37:54, 55:72, 73:90, 91:108, 109:126, 127:144, 145:162, 163:180  …  361:378, 379:396, 397:414, 415:432, 433:450, 451:468, 469:486, 487:504, 505:522, 523:540])))"
      ]
     },
     "metadata": {},
     "output_type": "display_data"
    }
   ],
   "source": [
    "xs, us, t_vec, params = quadrotor_navigation()"
   ]
  },
  {
   "cell_type": "code",
   "execution_count": 23,
   "metadata": {},
   "outputs": [
    {
     "name": "stderr",
     "output_type": "stream",
     "text": [
      "┌ Info: Listening on: 127.0.0.1:8704, thread id: 1\n",
      "└ @ HTTP.Servers /Users/pcy/.julia/packages/HTTP/1EWL3/src/Servers.jl:369\n",
      "┌ Info: MeshCat server started. You can open the visualizer by visiting the following URL in your browser:\n",
      "│ http://127.0.0.1:8704\n",
      "└ @ MeshCat /Users/pcy/.julia/packages/MeshCat/I6NTX/src/visualizer.jl:63\n"
     ]
    },
    {
     "data": {
      "text/html": [
       "    <div style=\"height: 500px; width: 100%; overflow-x: auto; overflow-y: hidden; resize: both\">\n",
       "    <iframe src=\"http://127.0.0.1:8704\" style=\"width: 100%; height: 100%; border: none\"></iframe>\n",
       "    </div>\n"
      ],
      "text/plain": [
       "MeshCat.DisplayedVisualizer(MeshCat.CoreVisualizer(MeshCat.SceneTrees.SceneNode(nothing, nothing, Dict{String, Vector{UInt8}}(), UInt8[0x83, 0xa7, 0x6f, 0x70, 0x74, 0x69, 0x6f, 0x6e, 0x73, 0x82  …  0x5f, 0x61, 0x6e, 0x69, 0x6d, 0x61, 0x74, 0x69, 0x6f, 0x6e], Dict{String, MeshCat.SceneTrees.SceneNode}(\"meshcat\" => MeshCat.SceneTrees.SceneNode(nothing, nothing, Dict{String, Vector{UInt8}}(), nothing, Dict{String, MeshCat.SceneTrees.SceneNode}(\"traj\" => MeshCat.SceneTrees.SceneNode(nothing, nothing, Dict{String, Vector{UInt8}}(), nothing, Dict{String, MeshCat.SceneTrees.SceneNode}(\"s23\" => MeshCat.SceneTrees.SceneNode(UInt8[0x83, 0xa6, 0x6f, 0x62, 0x6a, 0x65, 0x63, 0x74, 0x84, 0xaa  …  0x74, 0x2f, 0x74, 0x72, 0x61, 0x6a, 0x2f, 0x73, 0x32, 0x33], nothing, Dict{String, Vector{UInt8}}(), nothing, Dict{String, MeshCat.SceneTrees.SceneNode}()), \"s14\" => MeshCat.SceneTrees.SceneNode(UInt8[0x83, 0xa6, 0x6f, 0x62, 0x6a, 0x65, 0x63, 0x74, 0x84, 0xaa  …  0x74, 0x2f, 0x74, 0x72, 0x61, 0x6a, 0x2f, 0x73, 0x31, 0x34], nothing, Dict{String, Vector{UInt8}}(), nothing, Dict{String, MeshCat.SceneTrees.SceneNode}()), \"s18\" => MeshCat.SceneTrees.SceneNode(UInt8[0x83, 0xa6, 0x6f, 0x62, 0x6a, 0x65, 0x63, 0x74, 0x84, 0xaa  …  0x74, 0x2f, 0x74, 0x72, 0x61, 0x6a, 0x2f, 0x73, 0x31, 0x38], nothing, Dict{String, Vector{UInt8}}(), nothing, Dict{String, MeshCat.SceneTrees.SceneNode}()), \"s19\" => MeshCat.SceneTrees.SceneNode(UInt8[0x83, 0xa6, 0x6f, 0x62, 0x6a, 0x65, 0x63, 0x74, 0x84, 0xaa  …  0x74, 0x2f, 0x74, 0x72, 0x61, 0x6a, 0x2f, 0x73, 0x31, 0x39], nothing, Dict{String, Vector{UInt8}}(), nothing, Dict{String, MeshCat.SceneTrees.SceneNode}()), \"s6\" => MeshCat.SceneTrees.SceneNode(UInt8[0x83, 0xa6, 0x6f, 0x62, 0x6a, 0x65, 0x63, 0x74, 0x84, 0xaa  …  0x61, 0x74, 0x2f, 0x74, 0x72, 0x61, 0x6a, 0x2f, 0x73, 0x36], nothing, Dict{String, Vector{UInt8}}(), nothing, Dict{String, MeshCat.SceneTrees.SceneNode}()), \"s11\" => MeshCat.SceneTrees.SceneNode(UInt8[0x83, 0xa6, 0x6f, 0x62, 0x6a, 0x65, 0x63, 0x74, 0x84, 0xaa  …  0x74, 0x2f, 0x74, 0x72, 0x61, 0x6a, 0x2f, 0x73, 0x31, 0x31], nothing, Dict{String, Vector{UInt8}}(), nothing, Dict{String, MeshCat.SceneTrees.SceneNode}()), \"s15\" => MeshCat.SceneTrees.SceneNode(UInt8[0x83, 0xa6, 0x6f, 0x62, 0x6a, 0x65, 0x63, 0x74, 0x84, 0xaa  …  0x74, 0x2f, 0x74, 0x72, 0x61, 0x6a, 0x2f, 0x73, 0x31, 0x35], nothing, Dict{String, Vector{UInt8}}(), nothing, Dict{String, MeshCat.SceneTrees.SceneNode}()), \"p28\" => MeshCat.SceneTrees.SceneNode(UInt8[0x83, 0xa6, 0x6f, 0x62, 0x6a, 0x65, 0x63, 0x74, 0x84, 0xaa  …  0x74, 0x2f, 0x74, 0x72, 0x61, 0x6a, 0x2f, 0x70, 0x32, 0x38], nothing, Dict{String, Vector{UInt8}}(), nothing, Dict{String, MeshCat.SceneTrees.SceneNode}()), \"p4\" => MeshCat.SceneTrees.SceneNode(UInt8[0x83, 0xa6, 0x6f, 0x62, 0x6a, 0x65, 0x63, 0x74, 0x84, 0xaa  …  0x61, 0x74, 0x2f, 0x74, 0x72, 0x61, 0x6a, 0x2f, 0x70, 0x34], nothing, Dict{String, Vector{UInt8}}(), nothing, Dict{String, MeshCat.SceneTrees.SceneNode}()), \"s17\" => MeshCat.SceneTrees.SceneNode(UInt8[0x83, 0xa6, 0x6f, 0x62, 0x6a, 0x65, 0x63, 0x74, 0x84, 0xaa  …  0x74, 0x2f, 0x74, 0x72, 0x61, 0x6a, 0x2f, 0x73, 0x31, 0x37], nothing, Dict{String, Vector{UInt8}}(), nothing, Dict{String, MeshCat.SceneTrees.SceneNode}())…)), \"vic\" => MeshCat.SceneTrees.SceneNode(UInt8[0x83, 0xa6, 0x6f, 0x62, 0x6a, 0x65, 0x63, 0x74, 0x84, 0xaa  …  0x65, 0x73, 0x68, 0x63, 0x61, 0x74, 0x2f, 0x76, 0x69, 0x63], nothing, Dict{String, Vector{UInt8}}(), nothing, Dict{String, MeshCat.SceneTrees.SceneNode}()), \"target_load\" => MeshCat.SceneTrees.SceneNode(UInt8[0x83, 0xa6, 0x6f, 0x62, 0x6a, 0x65, 0x63, 0x74, 0x84, 0xaa  …  0x61, 0x72, 0x67, 0x65, 0x74, 0x5f, 0x6c, 0x6f, 0x61, 0x64], nothing, Dict{String, Vector{UInt8}}(), nothing, Dict{String, MeshCat.SceneTrees.SceneNode}()), \"load\" => MeshCat.SceneTrees.SceneNode(UInt8[0x83, 0xa6, 0x6f, 0x62, 0x6a, 0x65, 0x63, 0x74, 0x84, 0xaa  …  0x73, 0x68, 0x63, 0x61, 0x74, 0x2f, 0x6c, 0x6f, 0x61, 0x64], nothing, Dict{String, Vector{UInt8}}(), nothing, Dict{String, MeshCat.SceneTrees.SceneNode}()), \"target\" => MeshCat.SceneTrees.SceneNode(UInt8[0x83, 0xa6, 0x6f, 0x62, 0x6a, 0x65, 0x63, 0x74, 0x84, 0xaa  …  0x63, 0x61, 0x74, 0x2f, 0x74, 0x61, 0x72, 0x67, 0x65, 0x74], nothing, Dict{String, Vector{UInt8}}(), nothing, Dict{String, MeshCat.SceneTrees.SceneNode}()))))), Set{HTTP.WebSockets.WebSocket}(), ip\"127.0.0.1\", 8704))"
      ]
     },
     "metadata": {},
     "output_type": "display_data"
    }
   ],
   "source": [
    "display(animate_quadrotor_load(xs, xs, params.model.dt))"
   ]
  },
  {
   "cell_type": "code",
   "execution_count": 24,
   "metadata": {},
   "outputs": [
    {
     "name": "stdout",
     "output_type": "stream",
     "text": []
    },
    {
     "name": "stderr",
     "output_type": "stream",
     "text": [
      "attempt to save state beyond implementation limit\n"
     ]
    }
   ],
   "source": [
    "xsv = vcat(xs...)\n",
    "usv = vcat(us...)\n",
    "plot(t_vec, xsv[1:3], title = \"Position\", label = [\"x\" \"y\" \"z\"], xlabel = \"Time [s]\", ylabel = \"Position [m]\")\n",
    "display(plot!(t_vec, xsv[4:6], title = \"Velocity\", label = [\"vx\" \"vy\" \"vz\"], xlabel = \"Time [s]\", ylabel = \"Velocity [m/s]\"))"
   ]
  }
 ],
 "metadata": {
  "kernelspec": {
   "display_name": "Julia 1.9.2",
   "language": "julia",
   "name": "julia-1.9"
  },
  "language_info": {
   "file_extension": ".jl",
   "mimetype": "application/julia",
   "name": "julia",
   "version": "1.9.2"
  }
 },
 "nbformat": 4,
 "nbformat_minor": 2
}
