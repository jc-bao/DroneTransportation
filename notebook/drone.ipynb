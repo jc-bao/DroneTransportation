{
 "cells": [
  {
   "cell_type": "code",
   "execution_count": 30,
   "metadata": {},
   "outputs": [
    {
     "name": "stderr",
     "output_type": "stream",
     "text": [
      "\u001b[32m\u001b[1m  Activating\u001b[22m\u001b[39m project at `~/Research/code/DroneTransportation/notebook`\n"
     ]
    },
    {
     "data": {
      "text/plain": [
       "animate_quadrotor (generic function with 1 method)"
      ]
     },
     "metadata": {},
     "output_type": "display_data"
    }
   ],
   "source": [
    "import Pkg\n",
    "Pkg.activate(@__DIR__)\n",
    "Pkg.instantiate()\n",
    "\n",
    "import MathOptInterface as MOI\n",
    "import Ipopt \n",
    "import ForwardDiff as FD \n",
    "import Convex as cvx \n",
    "import ECOS\n",
    "using LinearAlgebra\n",
    "using Plots\n",
    "using Random\n",
    "using JLD2\n",
    "using Test\n",
    "import MeshCat as mc \n",
    "using Printf\n",
    "\n",
    "include(joinpath(@__DIR__, \"utils\",\"fmincon.jl\"))\n",
    "include(joinpath(@__DIR__, \"utils\",\"quadrotor.jl\"))"
   ]
  },
  {
   "cell_type": "markdown",
   "metadata": {},
   "source": [
    "# Problem Setting"
   ]
  },
  {
   "cell_type": "markdown",
   "metadata": {},
   "source": [
    "## Cost"
   ]
  },
  {
   "cell_type": "code",
   "execution_count": 39,
   "metadata": {},
   "outputs": [
    {
     "data": {
      "text/plain": [
       "task_cost (generic function with 1 method)"
      ]
     },
     "metadata": {},
     "output_type": "display_data"
    }
   ],
   "source": [
    "function task_cost(params::NamedTuple, Z::Vector)::Real\n",
    "    # compute the cost \n",
    "    xend = Z[params.idx.x[end]]\n",
    "    J = (xend - params.xf)'*params.Q*(xend - params.xf)\n",
    "    for k = 1:(params.N-1)\n",
    "        x = Z[params.idx.x[k]]\n",
    "        u = Z[params.idx.u[k]]\n",
    "        J += (x - params.xf)'*params.Q*(x - params.xf) + u'*params.R*u\n",
    "    end\n",
    "    return J\n",
    "end"
   ]
  },
  {
   "cell_type": "markdown",
   "metadata": {},
   "source": [
    "## Equality constraint"
   ]
  },
  {
   "cell_type": "code",
   "execution_count": 40,
   "metadata": {},
   "outputs": [
    {
     "data": {
      "text/plain": [
       "eq_constraints (generic function with 1 method)"
      ]
     },
     "metadata": {},
     "output_type": "display_data"
    }
   ],
   "source": [
    "function hermite_simpson(params::NamedTuple, x1::Vector, x2::Vector, u, dt::Real)::Vector\n",
    "    # TODO: input hermite simpson implicit integrator residual \n",
    "    x_mid =\n",
    "        0.5 * (x1 + x2) +\n",
    "        0.125 * dt * (quadrotor_dynamics(params.model, x1, u) - quadrotor_dynamics(params.model, x2, u))\n",
    "    return x1 +\n",
    "        1 / 6 *\n",
    "        dt *\n",
    "        (\n",
    "            quadrotor_dynamics(params.model, x1, u) +\n",
    "            4 * quadrotor_dynamics(params.model, x_mid, u) +\n",
    "            quadrotor_dynamics(params.model, x2, u)\n",
    "        ) - x2\n",
    "end\n",
    "\n",
    "function eq_constraints(params::NamedTuple, Z::Vector)::Vector\n",
    "    c = zeros(eltype(Z), 12*(params.N+1))\n",
    "    \n",
    "    # dynamic constrains\n",
    "    for i = 1:(params.N-1)\n",
    "        xi = Z[params.idx.x[i]]\n",
    "        xip1 = Z[params.idx.x[i+1]]\n",
    "        ui = Z[params.idx.u[i]]        \n",
    "        # dynamics constraints\n",
    "        c[12*(i+1) .+ (1:12)] = hermite_simpson(params, xi, xip1, ui, params.model.dt)\n",
    "    end\n",
    "\n",
    "    # initial condition\n",
    "    x1 = Z[params.idx.x[1]]\n",
    "    c[1:12] = x1 - params.x0\n",
    "\n",
    "    # final condition\n",
    "    xf = Z[params.idx.x[end]]\n",
    "    c[13:24] = xf - params.xf\n",
    "    \n",
    "    return c\n",
    "end"
   ]
  },
  {
   "cell_type": "markdown",
   "metadata": {},
   "source": [
    "## Inequality constraint"
   ]
  },
  {
   "cell_type": "code",
   "execution_count": 41,
   "metadata": {},
   "outputs": [
    {
     "data": {
      "text/plain": [
       "ineq_constraints (generic function with 1 method)"
      ]
     },
     "metadata": {},
     "output_type": "display_data"
    }
   ],
   "source": [
    "function ineq_constraints(params::NamedTuple, Z::Vector)::Vector\n",
    "    c = zeros(eltype(Z), 4*(params.N-1))\n",
    "    for i = 1:(params.N-1)\n",
    "        u = Z[params.idx.u[i]]\n",
    "        c[4*(i-1) .+ (1:4)] = u\n",
    "    end\n",
    "    return c\n",
    "end"
   ]
  },
  {
   "cell_type": "markdown",
   "metadata": {},
   "source": [
    "## Task"
   ]
  },
  {
   "cell_type": "code",
   "execution_count": 46,
   "metadata": {},
   "outputs": [
    {
     "data": {
      "text/plain": [
       "quadrotor_navigation"
      ]
     },
     "metadata": {},
     "output_type": "display_data"
    }
   ],
   "source": [
    "function create_idx(nx,nu,N)\n",
    "    # This function creates some useful indexing tools for Z \n",
    "    \n",
    "    # our Z vector is [x0, u0, x1, u1, …, xN]\n",
    "    nz = (N-1) * nu + N * nx # length of Z \n",
    "    x = [(i - 1) * (nx + nu) .+ (1 : nx) for i = 1:N]\n",
    "    u = [(i - 1) * (nx + nu) .+ ((nx + 1):(nx + nu)) for i = 1:(N - 1)]\n",
    "    \n",
    "    # constraint indexing for the (N-1) dynamics constraints when stacked up\n",
    "    c = [(i - 1) * (nx) .+ (1 : nx) for i = 1:(N - 1)]\n",
    "    nc = (N - 1) * nx # (N-1)*nx \n",
    "    \n",
    "    return (nx=nx,nu=nu,N=N,nz=nz,nc=nc,x= x,u = u,c = c)\n",
    "end\n",
    "\n",
    "\"\"\"\n",
    "    quadrotor navigation\n",
    "\n",
    "Function for returning collision free trajectories for 3 quadrotors. \n",
    "\n",
    "Outputs:\n",
    "    x::Vector{Vector}  # state trajectory for quad\n",
    "    u::Vector{Vector}  # control trajectory for quad\n",
    "    t_vec::Vector\n",
    "    params::NamedTuple\n",
    "\n",
    "The resulting trajectories should have dt=0.2, tf = 5.0, N = 26\n",
    "where all the x's are length 26, and the u's are length 25. \n",
    "\n",
    "\"\"\"\n",
    "function quadrotor_navigation(;verbose=true)\n",
    "    \n",
    "    # problem size \n",
    "    nx = 12\n",
    "    nu = 4\n",
    "    dt = 0.05\n",
    "    tf = 5.0 \n",
    "    t_vec = 0:dt:tf \n",
    "    N = length(t_vec)\n",
    "    \n",
    "    # indexing \n",
    "    idx = create_idx(nx,nu,N)\n",
    "    \n",
    "    # initial conditions and goal states \n",
    "    x0 = zeros(12)\n",
    "    xf = zeros(12)\n",
    "    xf[1] = 5.0\n",
    "    \n",
    "    # load all useful things into params \n",
    "    Q = 1.0 * diagm([1.0 * ones(3); 0.1 * ones(3); 1.0 * ones(3); 1.0 * ones(3)])\n",
    "    R = 0.1 * I(nu)\n",
    "    model = (mass=0.5,\n",
    "        J=Diagonal([0.0023, 0.0023, 0.004]),\n",
    "        gravity=[0,0,-9.81],\n",
    "        L=0.1750, # drone arm length\n",
    "        kf=1.0, u_max = 10.0/4.0, \n",
    "        km=0.0245,dt = dt)\n",
    "    params = (\n",
    "        N = N, \n",
    "        nx = nx, \n",
    "        nu = nu, \n",
    "        Q = Q, \n",
    "        R = R, \n",
    "        model = model, \n",
    "        x0 = x0,\n",
    "        xf = xf,\n",
    "        idx = idx\n",
    "    )\n",
    "    \n",
    "    x_guess = range(params.x0, params.xf, length=params.N)\n",
    "    z0 = zeros(params.idx.nz)\n",
    "    for i = 1:params.N\n",
    "        z0[params.idx.x[i][1]] = x_guess[i][1]\n",
    "    end\n",
    "\n",
    "    diff_type = :auto\n",
    "\n",
    "    Z = fmincon(\n",
    "        task_cost, \n",
    "        eq_constraints,\n",
    "        ineq_constraints, \n",
    "        ones(params.idx.nz) .* -10,\n",
    "        ones(params.idx.nz) .* 10,\n",
    "        ones(4*(N-1)) .* 0.0, \n",
    "        ones(4*(N-1)) .* params.model.u_max,\n",
    "        z0, \n",
    "        params,\n",
    "        diff_type; \n",
    "        tol = 1e-6,\n",
    "        c_tol = 1e-6,\n",
    "        max_iters=10_000, \n",
    "        verbose = true\n",
    "    )\n",
    "    \n",
    "    # return the trajectories \n",
    "    xs = [zeros(12)  for _ = 1:params.N]\n",
    "    us = [zeros(4)  for _ = 1:(params.N-1)]\n",
    "    for i = 1:params.N\n",
    "        x = Z[params.idx.x[i]]\n",
    "        xs[i] = x[1:12]\n",
    "        if i < params.N\n",
    "            us = Z[params.idx.u[i]]\n",
    "        end\n",
    "    end\n",
    "        \n",
    "    return xs, us, t_vec, params \n",
    "end"
   ]
  },
  {
   "cell_type": "code",
   "execution_count": 59,
   "metadata": {},
   "outputs": [
    {
     "name": "stdout",
     "output_type": "stream",
     "text": [
      "---------checking dimensions of everything----------\n",
      "---------all dimensions good------------------------\n",
      "---------diff type set to :auto (ForwardDiff.jl)----\n",
      "---------testing objective gradient-----------------\n",
      "---------testing constraint Jacobian----------------\n"
     ]
    },
    {
     "name": "stdout",
     "output_type": "stream",
     "text": [
      "---------successfully compiled both derivatives-----\n"
     ]
    },
    {
     "name": "stdout",
     "output_type": "stream",
     "text": [
      "---------IPOPT beginning solve----------------------\n"
     ]
    },
    {
     "name": "stdout",
     "output_type": "stream",
     "text": [
      "This is Ipopt version 3.14.14, running with linear solver MUMPS 5.6.2.\n",
      "\n",
      "Number of nonzeros in equality constraint Jacobian...:  1973088\n",
      "Number of nonzeros in inequality constraint Jacobian.:   644800\n",
      "Number of nonzeros in Lagrangian Hessian.............:        0\n",
      "\n",
      "Total number of variables............................:     1612\n",
      "                     variables with only lower bounds:        0\n",
      "                variables with lower and upper bounds:     1612\n",
      "                     variables with only upper bounds:        0\n",
      "Total number of equality constraints.................:     1224\n",
      "Total number of inequality constraints...............:      400\n",
      "        inequality constraints with only lower bounds:        0\n",
      "   inequality constraints with lower and upper bounds:      400\n",
      "        inequality constraints with only upper bounds:        0\n",
      "\n",
      "iter    objective    inf_pr   inf_du lg(mu)  ||d||  lg(rg) alpha_du alpha_pr  ls\n",
      "   0  3.3835000e+01 4.91e-01 1.90e-13   0.0 0.00e+00    -  0.00e+00 0.00e+00   0\n",
      "   1  9.6432236e+01 7.74e-03 1.49e+06   0.1 1.23e+00    -  9.93e-01 1.00e+00f  1\n",
      "   2  9.8291828e+01 7.74e-03 1.50e+06   2.2 4.00e+03    -  2.59e-03 9.36e-06f  9\n",
      "   3  1.0546541e+02 7.70e-03 1.64e+06   0.2 5.19e+01    -  6.32e-02 1.53e-02h  3\n",
      "   4  2.4304451e+02 9.03e-03 2.11e+06   1.6 5.07e+01    -  1.00e+00 4.83e-02h  1\n",
      "   5  3.0647244e+02 7.55e-03 1.94e+06   1.8 4.89e+00    -  1.00e+00 1.47e-01h  1\n",
      "   6  3.5210507e+02 5.51e-03 1.57e+06  -4.2 2.09e+00    -  2.54e-01 2.47e-01h  1\n",
      "   7  2.9864337e+02 5.49e-03 4.48e+02   0.8 1.05e+00    -  8.99e-01 1.00e+00f  1\n",
      "   8  1.9412160e+02 4.37e-03 1.71e+02   0.4 1.25e+00    -  6.02e-01 1.00e+00f  1\n",
      "   9  1.4179325e+02 3.12e-02 5.73e+01  -0.7 1.43e+00    -  6.41e-01 1.00e+00f  1\n",
      "iter    objective    inf_pr   inf_du lg(mu)  ||d||  lg(rg) alpha_du alpha_pr  ls\n",
      "  10  1.1591297e+02 4.58e-03 1.55e+01  -1.8 6.85e-01    -  6.67e-01 1.00e+00f  1\n",
      "  11  1.0073197e+02 2.35e-02 1.04e+01  -6.2 8.40e-01    -  2.75e-01 1.00e+00f  1\n",
      "  12  9.1127702e+01 2.32e-02 1.21e+01  -0.6 1.08e+00    -  6.52e-01 1.00e+00f  1\n",
      "  13  8.8724002e+01 4.27e-03 3.85e+00  -1.2 9.58e-01    -  5.53e-01 1.00e+00f  1\n",
      "  14  8.6170559e+01 1.07e-03 4.89e+00  -2.6 5.71e-01    -  5.47e-01 1.00e+00f  1\n",
      "  15  8.2836282e+01 2.61e-03 1.26e+01  -1.3 6.92e-01    -  9.41e-01 1.00e+00f  1\n",
      "  16  8.4335755e+01 2.97e-03 2.03e+01  -1.0 1.51e+00    -  1.00e+00 1.00e+00H  1\n",
      "  17  8.1636718e+01 5.97e-03 5.11e+00  -1.5 1.12e+00    -  9.99e-01 1.00e+00f  1\n",
      "  18  8.1216203e+01 4.26e-04 4.19e-01  -2.4 2.70e-01    -  1.00e+00 1.00e+00f  1\n",
      "  19  8.1196392e+01 3.03e-05 1.72e-01  -3.8 8.03e-02    -  9.98e-01 1.00e+00h  1\n",
      "iter    objective    inf_pr   inf_du lg(mu)  ||d||  lg(rg) alpha_du alpha_pr  ls\n",
      "  20  8.1190182e+01 2.12e-06 1.50e-01  -5.4 1.62e-02    -  1.00e+00 1.00e+00h  1\n",
      "  21  8.1183986e+01 2.10e-05 2.99e-01  -6.8 4.86e-02    -  1.00e+00 1.00e+00f  1\n",
      "  22  8.1196832e+01 2.58e-07 2.97e-01  -8.5 3.20e-02    -  1.00e+00 1.00e+00H  1\n",
      "  23  8.1181917e+01 2.59e-05 2.02e-02  -9.4 2.77e-02    -  1.00e+00 1.00e+00f  1\n",
      "  24  8.1182206e+01 1.63e-08 7.54e-04 -11.0 1.16e-03    -  1.00e+00 1.00e+00h  1\n",
      "  25  8.1182195e+01 4.70e-08 1.26e-03 -11.0 2.02e-03    -  1.00e+00 1.00e+00h  1\n",
      "  26  8.1182188e+01 6.22e-09 8.47e-04 -11.0 1.14e-03    -  1.00e+00 1.00e+00h  1\n",
      "  27  8.1182187e+01 1.60e-09 2.48e-04 -11.0 5.38e-04    -  1.00e+00 1.00e+00h  1\n",
      "  28  8.1182187e+01 2.55e-10 4.12e-05 -11.0 1.57e-04    -  1.00e+00 1.00e+00h  1\n",
      "  29  8.1182186e+01 2.46e-10 3.98e-05 -11.0 1.73e-04    -  1.00e+00 1.00e+00h  1\n",
      "iter    objective    inf_pr   inf_du lg(mu)  ||d||  lg(rg) alpha_du alpha_pr  ls\n",
      "  30  8.1182187e+01 1.08e-13 2.06e-04 -11.0 2.77e-04    -  1.00e+00 1.00e+00H  1\n",
      "  31  8.1182186e+01 2.65e-10 3.90e-05 -11.0 1.26e-04    -  1.00e+00 1.00e+00h  1\n",
      "  32  8.1182186e+01 2.37e-11 3.18e-05 -11.0 4.02e-05    -  1.00e+00 1.00e+00h  1\n",
      "  33  8.1182186e+01 4.94e-12 4.89e-06 -11.0 2.04e-05    -  1.00e+00 1.00e+00h  1\n",
      "  34  8.1182186e+01 2.07e-13 3.88e-06 -11.0 4.77e-06    -  1.00e+00 1.00e+00h  1\n",
      "  35  8.1182186e+01 2.32e-14 7.14e-07 -11.0 1.71e-06    -  1.00e+00 1.00e+00h  1\n",
      "\n",
      "Number of Iterations....: 35\n",
      "\n",
      "                                   (scaled)                 (unscaled)\n",
      "Objective...............:   8.1182186322262538e+01    8.1182186322262538e+01\n",
      "Dual infeasibility......:   7.1417870370282242e-07    7.1417870370282242e-07\n",
      "Constraint violation....:   2.3203661214665772e-14    2.3203661214665772e-14\n",
      "Variable bound violation:   0.0000000000000000e+00    0.0000000000000000e+00\n",
      "Complementarity.........:   1.0000000000000003e-11    1.0000000000000003e-11\n",
      "Overall NLP error.......:   7.1417870370282242e-07    7.1417870370282242e-07\n",
      "\n",
      "\n",
      "Number of objective function evaluations             = 53\n",
      "Number of objective gradient evaluations             = 36\n",
      "Number of equality constraint evaluations            = 53\n",
      "Number of inequality constraint evaluations          = 53\n",
      "Number of equality constraint Jacobian evaluations   = 36\n",
      "Number of inequality constraint Jacobian evaluations = 36\n",
      "Number of Lagrangian Hessian evaluations             = 0\n",
      "Total seconds in IPOPT                               = 94.829\n",
      "\n",
      "EXIT: Optimal Solution Found.\n"
     ]
    },
    {
     "name": "stderr",
     "output_type": "stream",
     "text": [
      "┌ Info: Listening on: 127.0.0.1:8703, thread id: 1\n",
      "└ @ HTTP.Servers /home/pcy/.julia/packages/HTTP/1EWL3/src/Servers.jl:369\n",
      "┌ Info: MeshCat server started. You can open the visualizer by visiting the following URL in your browser:\n",
      "│ http://127.0.0.1:8703\n",
      "└ @ MeshCat /home/pcy/.julia/packages/MeshCat/I6NTX/src/visualizer.jl:63\n"
     ]
    },
    {
     "data": {
      "text/html": [
       "    <div style=\"height: 500px; width: 100%; overflow-x: auto; overflow-y: hidden; resize: both\">\n",
       "    <iframe src=\"http://127.0.0.1:8703\" style=\"width: 100%; height: 100%; border: none\"></iframe>\n",
       "    </div>\n"
      ],
      "text/plain": [
       "MeshCat.DisplayedVisualizer(MeshCat.CoreVisualizer(MeshCat.SceneTrees.SceneNode(nothing, nothing, Dict{String, Vector{UInt8}}(), UInt8[0x83, 0xa7, 0x6f, 0x70, 0x74, 0x69, 0x6f, 0x6e, 0x73, 0x82  …  0x5f, 0x61, 0x6e, 0x69, 0x6d, 0x61, 0x74, 0x69, 0x6f, 0x6e], Dict{String, MeshCat.SceneTrees.SceneNode}(\"meshcat\" => MeshCat.SceneTrees.SceneNode(nothing, nothing, Dict{String, Vector{UInt8}}(), nothing, Dict{String, MeshCat.SceneTrees.SceneNode}(\"traj\" => MeshCat.SceneTrees.SceneNode(nothing, nothing, Dict{String, Vector{UInt8}}(), nothing, Dict{String, MeshCat.SceneTrees.SceneNode}(\"p94\" => MeshCat.SceneTrees.SceneNode(UInt8[0x83, 0xa6, 0x6f, 0x62, 0x6a, 0x65, 0x63, 0x74, 0x84, 0xaa  …  0x74, 0x2f, 0x74, 0x72, 0x61, 0x6a, 0x2f, 0x70, 0x39, 0x34], nothing, Dict{String, Vector{UInt8}}(), nothing, Dict{String, MeshCat.SceneTrees.SceneNode}()), \"s14\" => MeshCat.SceneTrees.SceneNode(UInt8[0x83, 0xa6, 0x6f, 0x62, 0x6a, 0x65, 0x63, 0x74, 0x84, 0xaa  …  0x74, 0x2f, 0x74, 0x72, 0x61, 0x6a, 0x2f, 0x73, 0x31, 0x34], nothing, Dict{String, Vector{UInt8}}(), nothing, Dict{String, MeshCat.SceneTrees.SceneNode}()), \"s44\" => MeshCat.SceneTrees.SceneNode(UInt8[0x83, 0xa6, 0x6f, 0x62, 0x6a, 0x65, 0x63, 0x74, 0x84, 0xaa  …  0x74, 0x2f, 0x74, 0x72, 0x61, 0x6a, 0x2f, 0x73, 0x34, 0x34], nothing, Dict{String, Vector{UInt8}}(), nothing, Dict{String, MeshCat.SceneTrees.SceneNode}()), \"s52\" => MeshCat.SceneTrees.SceneNode(UInt8[0x83, 0xa6, 0x6f, 0x62, 0x6a, 0x65, 0x63, 0x74, 0x84, 0xaa  …  0x74, 0x2f, 0x74, 0x72, 0x61, 0x6a, 0x2f, 0x73, 0x35, 0x32], nothing, Dict{String, Vector{UInt8}}(), nothing, Dict{String, MeshCat.SceneTrees.SceneNode}()), \"p92\" => MeshCat.SceneTrees.SceneNode(UInt8[0x83, 0xa6, 0x6f, 0x62, 0x6a, 0x65, 0x63, 0x74, 0x84, 0xaa  …  0x74, 0x2f, 0x74, 0x72, 0x61, 0x6a, 0x2f, 0x70, 0x39, 0x32], nothing, Dict{String, Vector{UInt8}}(), nothing, Dict{String, MeshCat.SceneTrees.SceneNode}()), \"p98\" => MeshCat.SceneTrees.SceneNode(UInt8[0x83, 0xa6, 0x6f, 0x62, 0x6a, 0x65, 0x63, 0x74, 0x84, 0xaa  …  0x74, 0x2f, 0x74, 0x72, 0x61, 0x6a, 0x2f, 0x70, 0x39, 0x38], nothing, Dict{String, Vector{UInt8}}(), nothing, Dict{String, MeshCat.SceneTrees.SceneNode}()), \"p6\" => MeshCat.SceneTrees.SceneNode(UInt8[0x83, 0xa6, 0x6f, 0x62, 0x6a, 0x65, 0x63, 0x74, 0x84, 0xaa  …  0x61, 0x74, 0x2f, 0x74, 0x72, 0x61, 0x6a, 0x2f, 0x70, 0x36], nothing, Dict{String, Vector{UInt8}}(), nothing, Dict{String, MeshCat.SceneTrees.SceneNode}()), \"p23\" => MeshCat.SceneTrees.SceneNode(UInt8[0x83, 0xa6, 0x6f, 0x62, 0x6a, 0x65, 0x63, 0x74, 0x84, 0xaa  …  0x74, 0x2f, 0x74, 0x72, 0x61, 0x6a, 0x2f, 0x70, 0x32, 0x33], nothing, Dict{String, Vector{UInt8}}(), nothing, Dict{String, MeshCat.SceneTrees.SceneNode}()), \"p90\" => MeshCat.SceneTrees.SceneNode(UInt8[0x83, 0xa6, 0x6f, 0x62, 0x6a, 0x65, 0x63, 0x74, 0x84, 0xaa  …  0x74, 0x2f, 0x74, 0x72, 0x61, 0x6a, 0x2f, 0x70, 0x39, 0x30], nothing, Dict{String, Vector{UInt8}}(), nothing, Dict{String, MeshCat.SceneTrees.SceneNode}()), \"s94\" => MeshCat.SceneTrees.SceneNode(UInt8[0x83, 0xa6, 0x6f, 0x62, 0x6a, 0x65, 0x63, 0x74, 0x84, 0xaa  …  0x74, 0x2f, 0x74, 0x72, 0x61, 0x6a, 0x2f, 0x73, 0x39, 0x34], nothing, Dict{String, Vector{UInt8}}(), nothing, Dict{String, MeshCat.SceneTrees.SceneNode}())…)), \"vic\" => MeshCat.SceneTrees.SceneNode(UInt8[0x83, 0xa6, 0x6f, 0x62, 0x6a, 0x65, 0x63, 0x74, 0x84, 0xaa  …  0x65, 0x73, 0x68, 0x63, 0x61, 0x74, 0x2f, 0x76, 0x69, 0x63], nothing, Dict{String, Vector{UInt8}}(), nothing, Dict{String, MeshCat.SceneTrees.SceneNode}()), \"target\" => MeshCat.SceneTrees.SceneNode(UInt8[0x83, 0xa6, 0x6f, 0x62, 0x6a, 0x65, 0x63, 0x74, 0x84, 0xaa  …  0x63, 0x61, 0x74, 0x2f, 0x74, 0x61, 0x72, 0x67, 0x65, 0x74], nothing, Dict{String, Vector{UInt8}}(), nothing, Dict{String, MeshCat.SceneTrees.SceneNode}()))))), Set{HTTP.WebSockets.WebSocket}(), ip\"127.0.0.1\", 8703))"
      ]
     },
     "metadata": {},
     "output_type": "display_data"
    }
   ],
   "source": [
    "xs, us, t_vec, params = quadrotor_navigation()\n",
    "display(animate_quadrotor(xs, xs, params.model.dt))"
   ]
  },
  {
   "cell_type": "code",
   "execution_count": 58,
   "metadata": {},
   "outputs": [
    {
     "name": "stdout",
     "output_type": "stream",
     "text": []
    }
   ],
   "source": [
    "xs = hcat(xs...)\n",
    "us = hcat(us...)\n",
    "plot(t_vec, xs[1:3], title = \"Position\", label = [\"x\" \"y\" \"z\"], xlabel = \"Time [s]\", ylabel = \"Position [m]\")\n",
    "display(plot!(t_vec, xs[4:6], title = \"Velocity\", label = [\"vx\" \"vy\" \"vz\"], xlabel = \"Time [s]\", ylabel = \"Velocity [m/s]\"))"
   ]
  }
 ],
 "metadata": {
  "kernelspec": {
   "display_name": "Julia 1.9.2",
   "language": "julia",
   "name": "julia-1.9"
  },
  "language_info": {
   "file_extension": ".jl",
   "mimetype": "application/julia",
   "name": "julia",
   "version": "1.9.2"
  }
 },
 "nbformat": 4,
 "nbformat_minor": 2
}
