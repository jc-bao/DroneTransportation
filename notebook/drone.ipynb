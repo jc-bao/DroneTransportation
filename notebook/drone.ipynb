{
 "cells": [
  {
   "cell_type": "code",
   "execution_count": 1,
   "metadata": {},
   "outputs": [
    {
     "name": "stderr",
     "output_type": "stream",
     "text": [
      "\u001b[32m\u001b[1m  Activating\u001b[22m\u001b[39m project at `~/Research/code/DroneTransportation/notebook`\n"
     ]
    },
    {
     "data": {
      "text/plain": [
       "combined_dynamics (generic function with 1 method)"
      ]
     },
     "metadata": {},
     "output_type": "display_data"
    }
   ],
   "source": [
    "import Pkg\n",
    "Pkg.activate(@__DIR__)\n",
    "Pkg.instantiate()\n",
    "\n",
    "import MathOptInterface as MOI\n",
    "import Ipopt \n",
    "import ForwardDiff as FD \n",
    "import Convex as cvx \n",
    "import ECOS\n",
    "using LinearAlgebra\n",
    "using Plots\n",
    "using Random\n",
    "using JLD2\n",
    "using Test\n",
    "import MeshCat as mc \n",
    "using Printf\n",
    "\n",
    "include(joinpath(@__DIR__, \"utils\",\"fmincon.jl\"))\n",
    "include(joinpath(@__DIR__, \"utils\",\"quadrotor.jl\"))"
   ]
  },
  {
   "cell_type": "markdown",
   "metadata": {},
   "source": [
    "# Problem Setting"
   ]
  },
  {
   "cell_type": "markdown",
   "metadata": {},
   "source": [
    "## Cost"
   ]
  },
  {
   "cell_type": "code",
   "execution_count": 2,
   "metadata": {},
   "outputs": [
    {
     "data": {
      "text/plain": [
       "task_cost (generic function with 1 method)"
      ]
     },
     "metadata": {},
     "output_type": "display_data"
    }
   ],
   "source": [
    "function task_cost(params::NamedTuple, Z::Vector)::Real\n",
    "    # compute the cost \n",
    "    xend = Z[params.idx.x[end]]\n",
    "    J = (xend - params.xf)'*params.Q*(xend - params.xf)\n",
    "    for k = 1:(params.N-1)\n",
    "        x = Z[params.idx.x[k]]\n",
    "        u = Z[params.idx.u[k]]\n",
    "        J += (x - params.xf)'*params.Q*(x - params.xf) + u'*params.R*u\n",
    "    end\n",
    "    return J\n",
    "end"
   ]
  },
  {
   "cell_type": "markdown",
   "metadata": {},
   "source": [
    "## Equality constraint"
   ]
  },
  {
   "cell_type": "code",
   "execution_count": 3,
   "metadata": {},
   "outputs": [
    {
     "data": {
      "text/plain": [
       "eq_constraints (generic function with 1 method)"
      ]
     },
     "metadata": {},
     "output_type": "display_data"
    }
   ],
   "source": [
    "function hermite_simpson(params::NamedTuple, x1::Vector, x2::Vector, u, dt::Real)::Vector\n",
    "    # TODO: input hermite simpson implicit integrator residual \n",
    "    dynamics = combined_dynamics\n",
    "    x_mid =\n",
    "        0.5 * (x1 + x2) +\n",
    "        0.125 * dt * (dynamics(params.model, x1, u) - dynamics(params.model, x2, u))\n",
    "    return x1 +\n",
    "        1 / 6 *\n",
    "        dt *\n",
    "        (\n",
    "            dynamics(params.model, x1, u) +\n",
    "            4 * dynamics(params.model, x_mid, u) +\n",
    "            dynamics(params.model, x2, u)\n",
    "        ) - x2\n",
    "end\n",
    "\n",
    "function eq_constraints(params::NamedTuple, Z::Vector)::Vector\n",
    "    \n",
    "    c_dyn = zeros(eltype(Z), 22*(params.N-1))\n",
    "    # dynamic constrains\n",
    "    for i = 1:(params.N-1)\n",
    "        xi = Z[params.idx.x[i]]\n",
    "        xip1 = Z[params.idx.x[i+1]]\n",
    "        ui = Z[params.idx.u[i]]        \n",
    "        # dynamics constraints\n",
    "        c_dyn[22*(i-1) .+ (1:18)] = hermite_simpson(params, xi, xip1, ui, params.model.dt)\n",
    "        # rope force constraints\n",
    "        ui_lift = ui[1:7]\n",
    "        ui_load = ui[8:10]\n",
    "        c_dyn[22*(i-1) .+ (19:21)] = ui_lift[5:7] + ui_load\n",
    "        # distance constraints\n",
    "        r_lift = xi[1:3]\n",
    "        r_load = xi[13:15]\n",
    "        c_dyn[22*(i-1) + 22] = norm(r_lift - r_load)^2 - params.model.l^2\n",
    "    end\n",
    "\n",
    "    # initial condition\n",
    "    x1 = Z[params.idx.x[1]]\n",
    "    c_init = x1 - params.xi\n",
    "\n",
    "    # final condition\n",
    "    xf = Z[params.idx.x[end]]\n",
    "    c_end = xf - params.xf\n",
    "    \n",
    "    return [c_init; c_end; c_dyn]\n",
    "end"
   ]
  },
  {
   "cell_type": "markdown",
   "metadata": {},
   "source": [
    "## Inequality constraint"
   ]
  },
  {
   "cell_type": "code",
   "execution_count": 4,
   "metadata": {},
   "outputs": [
    {
     "data": {
      "text/plain": [
       "ineq_constraints (generic function with 1 method)"
      ]
     },
     "metadata": {},
     "output_type": "display_data"
    }
   ],
   "source": [
    "function ineq_constraints(params::NamedTuple, Z::Vector)::Vector\n",
    "    c = zeros(eltype(Z), 4*(params.N-1))\n",
    "    for i = 1:(params.N-1)\n",
    "        u = Z[params.idx.u[i]]\n",
    "        u_lift = u[1:7]\n",
    "        # control limits\n",
    "        c[4*(i-1) .+ (1:4)] = u_lift[1:4]\n",
    "    end\n",
    "    return c\n",
    "end"
   ]
  },
  {
   "cell_type": "markdown",
   "metadata": {},
   "source": [
    "## Task"
   ]
  },
  {
   "cell_type": "code",
   "execution_count": 5,
   "metadata": {},
   "outputs": [
    {
     "data": {
      "text/plain": [
       "quadrotor_navigation"
      ]
     },
     "metadata": {},
     "output_type": "display_data"
    }
   ],
   "source": [
    "function create_idx(nx,nu,N)\n",
    "    # This function creates some useful indexing tools for Z \n",
    "    \n",
    "    # our Z vector is [xi, u0, x1, u1, …, xN]\n",
    "    nz = (N-1) * nu + N * nx # length of Z \n",
    "    x = [(i - 1) * (nx + nu) .+ (1 : nx) for i = 1:N]\n",
    "    u = [(i - 1) * (nx + nu) .+ ((nx + 1):(nx + nu)) for i = 1:(N - 1)]\n",
    "    \n",
    "    # constraint indexing for the (N-1) dynamics constraints when stacked up\n",
    "    c = [(i - 1) * (nx) .+ (1 : nx) for i = 1:(N - 1)]\n",
    "    nc = (N - 1) * nx # (N-1)*nx \n",
    "    \n",
    "    return (nx=nx,nu=nu,N=N,nz=nz,nc=nc,x= x,u = u,c = c)\n",
    "end\n",
    "\n",
    "\"\"\"\n",
    "    quadrotor navigation\n",
    "\n",
    "Function for returning collision free trajectories for 3 quadrotors. \n",
    "\n",
    "Outputs:\n",
    "    x::Vector{Vector}  # state trajectory for quad\n",
    "    u::Vector{Vector}  # control trajectory for quad\n",
    "    t_vec::Vector\n",
    "    params::NamedTuple\n",
    "\n",
    "The resulting trajectories should have dt=0.2, tf = 5.0, N = 26\n",
    "where all the x's are length 26, and the u's are length 25. \n",
    "\n",
    "\"\"\"\n",
    "function quadrotor_navigation(;verbose=true)\n",
    "    \n",
    "    # problem size \n",
    "    nx_lift = 12\n",
    "    nx_load = 6\n",
    "    nx = 12 + 6\n",
    "    nu_lift = 7\n",
    "    nu_load = 3\n",
    "    nu = 7 + 3\n",
    "    dt = 0.05\n",
    "    tf = 3.0\n",
    "    t_vec = 0:dt:tf \n",
    "    N = length(t_vec)\n",
    "    \n",
    "    # indexing \n",
    "    idx = create_idx(nx,nu,N)\n",
    "    \n",
    "    # initial conditions and goal states \n",
    "    xi = zeros(18)\n",
    "    xi[15] = -0.5\n",
    "    xf = zeros(18)\n",
    "    xf[1] = 0.6\n",
    "    xf[13] = 0.6\n",
    "    xf[15] = -0.5\n",
    "    \n",
    "    # load all useful things into params \n",
    "    Q = 1.0 * diagm([1.0 * ones(3); 0.1 * ones(3); 1.0 * ones(3); 1.0 * ones(3); 1.0 * ones(3); 0.1 * ones(3)])\n",
    "    R = diagm([0.1 * ones(4); zeros(3); zeros(3)])\n",
    "    model = (mass=0.5,mass_load=0.5,\n",
    "        J=Diagonal([0.0023, 0.0023, 0.004]),\n",
    "        gravity=[0,0,-9.81],\n",
    "        L=0.1750, # drone arm length\n",
    "        l=0.5, # rope length\n",
    "        kf=1.0, u_max = 20.0/4.0, \n",
    "        km=0.0245,dt = dt)\n",
    "    params = (\n",
    "        N = N, \n",
    "        nx = nx, \n",
    "        nx_lift = nx_lift,\n",
    "        nx_load = nx_load,\n",
    "        nu = nu, \n",
    "        nu_lift = nu_lift,\n",
    "        nu_load = nu_load,\n",
    "        Q = Q, \n",
    "        R = R, \n",
    "        model = model, \n",
    "        xi = xi,\n",
    "        xf = xf,\n",
    "        idx = idx\n",
    "    )\n",
    "\n",
    "    c_l = zeros(4*(N-1))\n",
    "    c_u = repeat(ones(4) .* params.model.u_max, N-1)\n",
    "\n",
    "    # test constrain feasibility\n",
    "    # test constrains\n",
    "    x_test = zeros(18)\n",
    "    x_test[15] = -0.5\n",
    "    u_lift1_test = ones(4).*(1.0*9.81/4.0)\n",
    "    u_lift2_test = [0.0, 0.0, -0.5*9.81]\n",
    "    u_load_test = [0.0, 0.0, 0.5*9.81]\n",
    "    u_test = [u_lift1_test; u_lift2_test; u_load_test]\n",
    "    xu_test = [x_test; u_test]\n",
    "    Z_test = repeat(xu_test, N-1)\n",
    "    Z_test = [Z_test; x_test]\n",
    "    eq_cons = eq_constraints(params, Z_test)\n",
    "    \n",
    "    @test all(eq_constraints(params, Z_test)[37:end] .≈ 0.0)\n",
    "    @test all(ineq_constraints(params, Z_test) ≤ c_u)\n",
    "    @test all(ineq_constraints(params, Z_test) ≥ c_l)\n",
    "    \n",
    "    x_guess = range(params.xi, params.xf, length=params.N)\n",
    "    z0 = zeros(params.idx.nz)\n",
    "    for i = 1:params.N\n",
    "        z0[params.idx.x[i][1]] = x_guess[i][1]\n",
    "        z0[params.idx.x[i][3]] = x_guess[i][3]\n",
    "        z0[params.idx.x[i][13]] = x_guess[i][13]\n",
    "        z0[params.idx.x[i][15]] = x_guess[i][15]\n",
    "        if i < params.N\n",
    "            z0[params.idx.u[i]][1:4] = ones(4).*(1.0*9.81/4.0)\n",
    "            z0[params.idx.u[i]][7] = -0.5*9.81\n",
    "            z0[params.idx.u[i]][10] = 0.5*9.81\n",
    "        end\n",
    "    end\n",
    "    \n",
    "    diff_type = :auto\n",
    "    \n",
    "    Z = fmincon(\n",
    "        task_cost, \n",
    "        eq_constraints,\n",
    "        ineq_constraints, \n",
    "        ones(params.idx.nz) .* -Inf,\n",
    "        ones(params.idx.nz) .* Inf,\n",
    "        c_l, \n",
    "        c_u,\n",
    "        z0, \n",
    "        params,\n",
    "        diff_type; \n",
    "        tol = 1e-6,\n",
    "        c_tol = 1e-6,\n",
    "        max_iters=1_000, \n",
    "        verbose = verbose\n",
    "        )\n",
    "        \n",
    "    # return the trajectories \n",
    "    xs = [zeros(18)  for _ = 1:params.N]\n",
    "    us = [zeros(10)  for _ = 1:(params.N-1)]\n",
    "    for i = 1:params.N\n",
    "        x = Z[params.idx.x[i]]\n",
    "        xs[i] = x[1:18]\n",
    "        if i < params.N\n",
    "            us = Z[params.idx.u[i]]\n",
    "        end\n",
    "    end\n",
    "    \n",
    "    return xs, us, t_vec, params \n",
    "end"
   ]
  },
  {
   "cell_type": "code",
   "execution_count": 6,
   "metadata": {},
   "outputs": [
    {
     "name": "stdout",
     "output_type": "stream",
     "text": [
      "---------checking dimensions of everything----------\n",
      "---------all dimensions good------------------------\n",
      "---------diff type set to :auto (ForwardDiff.jl)----\n",
      "---------testing objective gradient-----------------\n",
      "---------testing constraint Jacobian----------------\n",
      "---------successfully compiled both derivatives-----\n",
      "---------IPOPT beginning solve----------------------\n",
      "\n",
      "******************************************************************************\n",
      "This program contains Ipopt, a library for large-scale nonlinear optimization.\n",
      " Ipopt is released as open source code under the Eclipse Public License (EPL).\n",
      "         For more information visit https://github.com/coin-or/Ipopt\n",
      "******************************************************************************\n",
      "\n",
      "This is Ipopt version 3.14.14, running with linear solver MUMPS 5.6.2.\n",
      "\n",
      "Number of nonzeros in equality constraint Jacobian...:  2302488\n",
      "Number of nonzeros in inequality constraint Jacobian.:   407520\n",
      "Number of nonzeros in Lagrangian Hessian.............:        0\n",
      "\n",
      "Total number of variables............................:     1698\n",
      "                     variables with only lower bounds:        0\n",
      "                variables with lower and upper bounds:        0\n",
      "                     variables with only upper bounds:        0\n",
      "Total number of equality constraints.................:     1356\n",
      "Total number of inequality constraints...............:      240\n",
      "        inequality constraints with only lower bounds:        0\n",
      "   inequality constraints with lower and upper bounds:      240\n",
      "        inequality constraints with only upper bounds:        0\n",
      "\n",
      "iter    objective    inf_pr   inf_du lg(mu)  ||d||  lg(rg) alpha_du alpha_pr  ls\n",
      "   0  1.4762000e+01 4.91e-01 1.20e+00   0.0 0.00e+00    -  0.00e+00 0.00e+00   0\n",
      "   1  1.5969754e+02 8.06e-03 3.06e+06   0.4 4.90e+00    -  9.85e-01 1.00e+00f  1\n",
      "   2r 1.5969754e+02 8.06e-03 8.83e+02   0.0 0.00e+00    -  0.00e+00 4.77e-07R 22\n",
      "   3r 1.6144551e+02 1.69e-03 1.94e+02  -0.5 2.01e+00    -  1.00e+00 1.22e-01f  1\n",
      "   4  1.6907628e+02 2.50e-03 1.03e+03  -6.0 1.28e+00    -  8.49e-01 1.00e+00H  1\n",
      "   5  1.6549378e+02 1.95e-01 5.73e+02  -1.3 2.98e+00  -2.5 6.96e-01 5.00e-01f  2\n",
      "   6  1.5891040e+02 1.94e-01 5.26e+02  -1.2 5.50e+00  -3.0 6.94e-01 1.11e-01f  4\n",
      "   7  1.6128466e+02 1.50e-01 2.64e+02  -0.9 1.71e+00  -1.2 1.00e+00 5.00e-01h  2\n",
      "   8  1.8021175e+02 7.66e-02 2.35e+01  -1.0 1.30e+00    -  1.00e+00 1.00e+00h  1\n",
      "   9  1.6426711e+02 4.44e-02 2.45e+01  -1.0 2.51e+00    -  1.00e+00 1.00e+00f  1\n",
      "iter    objective    inf_pr   inf_du lg(mu)  ||d||  lg(rg) alpha_du alpha_pr  ls\n",
      "  10  1.6580291e+02 8.41e-03 2.05e+01  -1.0 1.95e+00    -  1.00e+00 1.00e+00H  1\n",
      "  11  1.5856113e+02 3.31e-02 6.75e+00  -2.0 7.75e-01    -  1.00e+00 1.00e+00f  1\n",
      "  12  1.5873277e+02 1.05e-03 7.88e-01  -3.3 1.51e-01    -  1.00e+00 1.00e+00h  1\n",
      "  13  1.5866882e+02 1.14e-03 3.68e-01  -4.8 1.40e-01    -  1.00e+00 1.00e+00f  1\n",
      "  14  1.5859643e+02 2.14e-04 6.40e-01  -6.4 6.40e-02    -  1.00e+00 1.00e+00h  1\n",
      "  15  1.5854563e+02 1.15e-03 1.91e+00  -7.9 1.37e-01    -  1.00e+00 1.00e+00f  1\n",
      "  16  1.5857520e+02 2.61e-05 2.80e+00  -9.6 1.55e-01    -  1.00e+00 1.00e+00H  1\n",
      "  17  1.5850483e+02 9.16e-04 1.87e+00 -10.9 9.20e-02    -  1.00e+00 1.00e+00f  1\n",
      "  18  1.5848961e+02 1.95e-04 2.60e+00 -11.0 7.28e-02    -  1.00e+00 1.00e+00h  1\n",
      "  19  1.5848614e+02 2.50e-05 6.54e-01 -11.0 2.62e-02    -  1.00e+00 1.00e+00h  1\n",
      "iter    objective    inf_pr   inf_du lg(mu)  ||d||  lg(rg) alpha_du alpha_pr  ls\n",
      "  20  1.5848394e+02 1.40e-05 5.04e-01 -11.0 1.35e-02    -  1.00e+00 1.00e+00h  1\n",
      "  21  1.5848335e+02 8.84e-05 8.45e-01 -11.0 3.53e-02    -  1.00e+00 1.00e+00h  1\n",
      "  22  1.5848391e+02 2.39e-06 6.41e+00 -11.0 6.39e-02    -  1.00e+00 1.00e+00H  1\n",
      "  23  1.5848020e+02 1.37e-04 3.78e+00 -11.0 4.46e-02    -  1.00e+00 1.00e+00f  1\n",
      "  24  1.5849010e+02 7.70e-05 1.89e+00 -11.0 5.36e-02    -  1.00e+00 1.00e+00h  1\n",
      "  25  1.5847786e+02 1.10e-04 2.76e+00 -11.0 3.93e-02    -  1.00e+00 1.00e+00h  1\n",
      "  26  1.5847812e+02 4.15e-06 4.31e-01 -11.0 1.06e-02    -  1.00e+00 1.00e+00h  1\n",
      "  27  1.5847774e+02 4.30e-07 2.73e-01 -11.0 4.79e-03    -  1.00e+00 1.00e+00h  1\n",
      "  28  1.5847758e+02 8.40e-07 2.03e-01 -11.0 5.56e-03    -  1.00e+00 1.00e+00h  1\n",
      "  29  1.5847750e+02 1.29e-05 1.11e+00 -11.0 2.35e-02    -  1.00e+00 1.00e+00h  1\n",
      "iter    objective    inf_pr   inf_du lg(mu)  ||d||  lg(rg) alpha_du alpha_pr  ls\n",
      "  30  1.5847952e+02 9.83e-06 6.46e+00 -11.0 6.77e-02    -  1.00e+00 1.00e+00H  1\n",
      "  31  1.5847772e+02 2.02e-05 3.71e+00 -11.0 3.32e-02    -  1.00e+00 1.00e+00h  1\n",
      "  32  1.5847924e+02 3.24e-06 2.83e+00 -11.0 5.03e-02    -  1.00e+00 1.00e+00H  1\n",
      "  33  1.5847721e+02 3.25e-05 9.12e-01 -11.0 4.18e-02    -  1.00e+00 1.00e+00h  1\n",
      "  34  1.5848080e+02 1.55e-05 1.64e+00 -11.0 3.41e-02    -  1.00e+00 1.00e+00h  1\n",
      "  35  1.5847710e+02 1.20e-05 1.86e-01 -11.0 2.88e-02    -  1.00e+00 1.00e+00h  1\n",
      "  36  1.5847721e+02 3.05e-08 9.09e-04 -11.0 2.16e-03    -  1.00e+00 1.00e+00h  1\n",
      "  37  1.5847720e+02 2.23e-08 3.91e-03 -11.0 3.13e-03    -  1.00e+00 1.00e+00h  1\n",
      "\n",
      "Number of Iterations....: 37\n",
      "\n",
      "                                   (scaled)                 (unscaled)\n",
      "Objective...............:   1.5847719716320458e+02    1.5847719716320458e+02\n",
      "Dual infeasibility......:   3.9062501326494470e-03    3.9062501326494470e-03\n",
      "Constraint violation....:   2.2274189881432704e-08    2.2274189881432704e-08\n",
      "Variable bound violation:   0.0000000000000000e+00    0.0000000000000000e+00\n",
      "Complementarity.........:   9.9999999999999865e-12    9.9999999999999865e-12\n",
      "Overall NLP error.......:   2.2274189881432704e-08    3.9062501326494470e-03\n",
      "\n",
      "\n",
      "Number of objective function evaluations             = 76\n",
      "Number of objective gradient evaluations             = 38\n",
      "Number of equality constraint evaluations            = 76\n",
      "Number of inequality constraint evaluations          = 76\n",
      "Number of equality constraint Jacobian evaluations   = 39\n",
      "Number of inequality constraint Jacobian evaluations = 39\n",
      "Number of Lagrangian Hessian evaluations             = 0\n",
      "Total seconds in IPOPT                               = 104.877\n",
      "\n",
      "EXIT: Optimal Solution Found.\n"
     ]
    },
    {
     "data": {
      "text/plain": [
       "([[1.7922601149591226e-14, 9.279066103397089e-17, -6.63272475207715e-11, 9.488548157405983e-15, -4.7556594256187076e-17, -4.97232537913691e-12, 2.228596665429578e-16, 8.726754917343749e-14, 1.4636928995893082e-15, -1.0166272103418157e-17, -1.2404835798786927e-17, 8.799512201864698e-16, -4.842527519576433e-15, 3.664843713907285e-17, -0.4999999999336753, 1.3295279006010478e-15, 9.186243190779792e-18, 4.9696549615013975e-12], [-0.0002348991001178635, 1.1605144494175835e-8, -0.0006622891654402532, -0.006534277065708745, 4.7538240657840773e-7, -0.026518031133602665, -1.8294982136038627e-8, 0.004625693059534181, -2.460864774845552e-8, -2.9092420043219762e-6, 0.7401049510004368, -3.9372835126553205e-6, 0.0003064446223376557, -1.1321342689315698e-8, -0.5006619967564258, 0.01225778489389101, -4.52853710506133e-7, -0.02647988087580769], [-0.0004156184058897107, 4.689310843565911e-8, -0.002075459705113387, 0.00455224070755497, 9.456504366971442e-7, -0.030190745710950644, -3.448476377073093e-8, 0.012707172238719438, -6.923353676136473e-8, 3.1540636984796627e-7, 0.5528275008072759, -3.1634258281810424e-6, 0.001505518015097595, -4.291085581916645e-8, -0.5020717704281815, 0.03570515079994528, -8.107268155309444e-7, -0.029911058025276892], [0.0007078056533134291, 9.100993257197035e-8, -0.0032735977490160294, 0.04430963577505425, 8.077503741611377e-7, -0.017980542319438998, -1.8419347512564295e-8, 0.01856432247996036, -6.670925979913843e-8, 2.0654518094533278e-6, 0.38408476540926206, 3.703423036452763e-6, 0.0038884548216938314, -7.737202794173965e-8, -0.5032634870755999, 0.05961232150702217, -5.677200737666549e-7, -0.01775761584567497], [0.0040112868470808275, 1.3521797054172374e-7, -0.003729426708324053, 0.09047069550753024, 9.363987304218116e-7, -0.0004698048097837774, 2.2209132266397328e-8, 0.02246513498921758, 5.643224309202671e-8, 3.5530729141947965e-6, 0.23978186831465764, 1.6245625875949908e-5, 0.007819039389554536, -1.0902258877279461e-7, -0.5037149376043196, 0.09761106115191466, -6.983023545641377e-7, -0.0003003973198541593], [0.009885304175226647, 1.669321380889471e-7, -0.003316828168531636, 0.1460092445944418, 3.036349667054924e-7, 0.01683001148411275, 7.910395770652534e-8, 0.02471055390564502, 3.515078280859486e-7, 3.4126398985948817e-6, 0.11928521939843888, 3.128714681655206e-5, 0.013725814076850033, -1.3228929396563233e-7, -0.503302091611731, 0.1386599264017338, -2.323658656431465e-7, 0.016814229036299963], [0.018556517595659346, 1.7388632179182972e-7, -0.002134267801168855, 0.201429762521161, -4.625953972702676e-8, 0.03041280517005131, 1.3461456181503102e-7, 0.0255896668855624, 8.20819555120926e-7, 1.8252877077447443e-6, 0.021283932381864858, 4.408196294241569e-5, 0.021827110493564568, -1.4311856599735814e-7, -0.5021235830885784, 0.1853919302113134, -2.0080500195782793e-7, 0.030326119878332232], [0.029923812709816328, 1.5023667244567258e-7, -0.00039840892618505215, 0.25311432356753005, -9.057617842687298e-7, 0.03903666155709228, 1.7318722843872284e-7, 0.02536755669221168, 1.40971444078383e-6, -5.459316129612923e-7, -0.056798507932457075, 5.028171537150346e-5, 0.032364400333686476, -1.4160050381094095e-7, -0.5003924623263311, 0.23609966343641012, 2.6152746960145694e-7, 0.038918702629627704], [0.04385575931867677, 9.18804681698083e-8, 0.001645577238224698, 0.3034440949671729, -1.4169614174045553e-6, 0.042794428445675776, 1.822776818981458e-7, 0.024275226255457617, 2.019552583776404e-6, -3.450468550579639e-6, -0.11786673206647925, 4.723265143813368e-5, 0.04537875526980334, -1.2518829164831263e-7, -0.4983521086446318, 0.2844745339794073, 3.949610349829737e-7, 0.04269545261214986], [0.0601093389453464, 6.722873308820526e-9, 0.0037637462801568718, 0.34554923496972617, -1.960740939487529e-6, 0.042040236814374334, 1.5450955990812114e-7, 0.0225134329575176, 2.531410988647011e-6, -6.127015132183721e-6, -0.16386593115547773, 3.4388870569180584e-5, 0.06085237752154683, -9.816632618530325e-8, -0.4962357049062853, 0.3344703561041951, 6.859175631514716e-7, 0.04196068895657051]  …  [0.6023079437890044, 7.79898945928053e-7, 0.00035559225253446725, -0.014683536048653011, -5.0699299388107405e-6, -0.0011684914497281226, 1.277268936178827e-8, 0.00021483572310911485, 3.1673354681966256e-7, -4.6311099206035745e-6, 0.03162174745803188, -2.476303350519978e-5, 0.6030635548209421, 5.908384042502747e-8, -0.4996438561777352, -0.011241352638284583, 1.4288073514701605e-6, -0.001163068274624957], [0.6015937643993198, 5.19951183325598e-7, 0.00029751397765741684, -0.01365121441182479, -5.29072162599789e-6, -0.001155012397025419, -4.433315715004525e-8, 0.0005702157329754758, -4.812037759994256e-11, -4.447525165810203e-6, 0.025239044766435258, -2.5927608420002897e-5, 0.6025148392414567, 1.3762271532000567e-7, -0.49970165425420665, -0.010707270554695933, 1.7127477050374298e-6, -0.0011488468862856376], [0.6009761673183064, 2.9148034873083147e-7, 0.00024052928848692685, -0.010874803720981246, -3.81433985844305e-6, -0.0011248697314608688, -9.647115620968921e-8, 0.000842165502185487, -2.967820320795383e-7, -3.841931868654331e-6, 0.018272896345139573, -2.155557523048585e-5, 0.6019800586556584, 1.932979407187185e-7, -0.4997584773314655, -0.010683952861546438, 5.142612684126772e-7, -0.0011240841015995632], [0.6004969634624289, 1.2439925357318e-7, 0.00018562291379688878, -0.008174563607165656, -2.841949793464395e-6, -0.0010718364768643822, -1.3822961067847808e-7, 0.0010237777732956543, -5.101479055968437e-7, -2.801403604585671e-6, 0.010785041656684407, -1.258866393182104e-5, 0.601470654747453, 2.0624581811748398e-7, -0.49981343920065396, -0.009692203482905358, 3.6538535504702295e-9, -0.0010743827699523194], [0.6001570765555154, 1.5932429345152282e-8, 0.00013421609599240385, -0.005366387371082824, -1.4799721466147473e-6, -0.0009846607164976007, -1.641203013882362e-7, 0.0011071351590184713, -5.972861116504594e-7, -1.327802752802809e-6, 0.0025521249137978146, -1.3583123057822445e-6, 0.6010212217999462, 1.8724500380030967e-7, -0.4998650444697836, -0.008285114402540938, -7.636864405168001e-7, -0.000989835892620407], [0.5999616967023297, -3.405440805256782e-8, 8.830360794740307e-5, -0.0024657049807682617, -5.15458336510702e-7, -0.0008517727213975776, -1.7016967651897072e-7, 0.0010813037832363653, -5.502237199657408e-7, 3.4789077657720667e-7, -0.0066851400947225675, 8.884676737329745e-6, 0.6006427657915775, 1.4139489478430078e-7, -0.4999112359280009, -0.0068531259451019, -1.0703179150377601e-6, -0.0008578145417072721], [0.5998872381563479, -4.5773107421712545e-8, 5.0177316771212245e-5, -0.0006080730429221027, 3.707262165863215e-8, -0.0006728860678765662, -1.5499853851017797e-7, 0.0009354302881122591, -4.0107822732960113e-7, 2.053901340234391e-6, -0.016654595351225435, 1.4975766321261293e-5, 0.6003536454091958, 9.00986967477376e-8, -0.4999496070975205, -0.004711689341094511, -9.81530007492442e-7, -0.0006770401369209221], [0.5999059078837822, -3.2315322098175756e-8, 2.2089604769135654e-5, 0.0011747704386835037, 4.776369433831139e-7, -0.00045005560223292346, -1.1845492058939055e-7, 0.0006601860021060082, -2.1300946964050763e-7, 3.7716061538554306e-6, -0.027384462106539692, 1.5112423845038384e-5, 0.6001528877057558, 4.3552053926338735e-8, -0.49997784938933143, -0.0033186188025662615, -8.803357070034175e-7, -0.00045264364167729753], [0.5999690384905303, -9.995974735518359e-9, 5.413637983833779e-6, 0.001078476066011542, 3.6882841355739386e-7, -0.00021648307810231472, -4.742587092261809e-8, 0.0002445165141091392, -5.927449357601003e-8, 7.585845426949651e-6, -0.039122641400769806, 9.483917962620285e-6, 0.6000349611178167, 1.0771830608178597e-8, -0.49999458244404793, -0.0013984447130070685, -4.3087322514371835e-7, -0.000216686444178636], [0.6000000000000053, 1.7979529889041817e-17, -1.9736217498519605e-10, 5.117590138089546e-15, 2.1585163365952046e-16, 4.927033466336019e-12, 3.0136730106974747e-15, -6.717499610773057e-14, -1.0178789190541482e-15, -5.647270106989219e-18, -2.8137151834674653e-16, -3.583404883548481e-18, 0.5999999999999959, -9.40258474184329e-18, -0.4999999998026378, 3.588886128640588e-15, 6.436762940962969e-17, -4.927335466363498e-12]], [2.448433593447024, 2.453589912664408, 2.458717259186388, 2.4535919078643924, -0.01398444713014186, -4.308732252736208e-6, -4.907166864392581, 0.013984447130141422, 4.308732252722186e-6, 4.907166864392581], 0.0:0.05:3.0, (N = 61, nx = 18, nx_lift = 12, nx_load = 6, nu = 10, nu_lift = 7, nu_load = 3, Q = [1.0 0.0 … 0.0 0.0; 0.0 1.0 … 0.0 0.0; … ; 0.0 0.0 … 0.1 0.0; 0.0 0.0 … 0.0 0.1], R = [0.1 0.0 … 0.0 0.0; 0.0 0.1 … 0.0 0.0; … ; 0.0 0.0 … 0.0 0.0; 0.0 0.0 … 0.0 0.0], model = (mass = 0.5, mass_load = 0.5, J = [0.0023 0.0 0.0; 0.0 0.0023 0.0; 0.0 0.0 0.004], gravity = [0.0, 0.0, -9.81], L = 0.175, l = 0.5, kf = 1.0, u_max = 5.0, km = 0.0245, dt = 0.05), xi = [0.0, 0.0, 0.0, 0.0, 0.0, 0.0, 0.0, 0.0, 0.0, 0.0, 0.0, 0.0, 0.0, 0.0, -0.5, 0.0, 0.0, 0.0], xf = [0.6, 0.0, 0.0, 0.0, 0.0, 0.0, 0.0, 0.0, 0.0, 0.0, 0.0, 0.0, 0.6, 0.0, -0.5, 0.0, 0.0, 0.0], idx = (nx = 18, nu = 10, N = 61, nz = 1698, nc = 1080, x = UnitRange{Int64}[1:18, 29:46, 57:74, 85:102, 113:130, 141:158, 169:186, 197:214, 225:242, 253:270  …  1429:1446, 1457:1474, 1485:1502, 1513:1530, 1541:1558, 1569:1586, 1597:1614, 1625:1642, 1653:1670, 1681:1698], u = UnitRange{Int64}[19:28, 47:56, 75:84, 103:112, 131:140, 159:168, 187:196, 215:224, 243:252, 271:280  …  1419:1428, 1447:1456, 1475:1484, 1503:1512, 1531:1540, 1559:1568, 1587:1596, 1615:1624, 1643:1652, 1671:1680], c = UnitRange{Int64}[1:18, 19:36, 37:54, 55:72, 73:90, 91:108, 109:126, 127:144, 145:162, 163:180  …  901:918, 919:936, 937:954, 955:972, 973:990, 991:1008, 1009:1026, 1027:1044, 1045:1062, 1063:1080])))"
      ]
     },
     "metadata": {},
     "output_type": "display_data"
    }
   ],
   "source": [
    "xs, us, t_vec, params = quadrotor_navigation()"
   ]
  },
  {
   "cell_type": "code",
   "execution_count": 7,
   "metadata": {},
   "outputs": [
    {
     "name": "stderr",
     "output_type": "stream",
     "text": [
      "┌ Info: Listening on: 127.0.0.1:8706, thread id: 1\n",
      "└ @ HTTP.Servers /home/pcy/.julia/packages/HTTP/1EWL3/src/Servers.jl:369\n",
      "┌ Info: MeshCat server started. You can open the visualizer by visiting the following URL in your browser:\n",
      "│ http://127.0.0.1:8706\n",
      "└ @ MeshCat /home/pcy/.julia/packages/MeshCat/I6NTX/src/visualizer.jl:63\n"
     ]
    },
    {
     "data": {
      "text/html": [
       "    <div style=\"height: 500px; width: 100%; overflow-x: auto; overflow-y: hidden; resize: both\">\n",
       "    <iframe src=\"http://127.0.0.1:8706\" style=\"width: 100%; height: 100%; border: none\"></iframe>\n",
       "    </div>\n"
      ],
      "text/plain": [
       "MeshCat.DisplayedVisualizer(MeshCat.CoreVisualizer(MeshCat.SceneTrees.SceneNode(nothing, nothing, Dict{String, Vector{UInt8}}(), UInt8[0x83, 0xa7, 0x6f, 0x70, 0x74, 0x69, 0x6f, 0x6e, 0x73, 0x82  …  0x5f, 0x61, 0x6e, 0x69, 0x6d, 0x61, 0x74, 0x69, 0x6f, 0x6e], Dict{String, MeshCat.SceneTrees.SceneNode}(\"meshcat\" => MeshCat.SceneTrees.SceneNode(nothing, nothing, Dict{String, Vector{UInt8}}(), nothing, Dict{String, MeshCat.SceneTrees.SceneNode}(\"traj\" => MeshCat.SceneTrees.SceneNode(nothing, nothing, Dict{String, Vector{UInt8}}(), nothing, Dict{String, MeshCat.SceneTrees.SceneNode}(\"s23\" => MeshCat.SceneTrees.SceneNode(UInt8[0x83, 0xa6, 0x6f, 0x62, 0x6a, 0x65, 0x63, 0x74, 0x84, 0xaa  …  0x74, 0x2f, 0x74, 0x72, 0x61, 0x6a, 0x2f, 0x73, 0x32, 0x33], nothing, Dict{String, Vector{UInt8}}(), nothing, Dict{String, MeshCat.SceneTrees.SceneNode}()), \"s14\" => MeshCat.SceneTrees.SceneNode(UInt8[0x83, 0xa6, 0x6f, 0x62, 0x6a, 0x65, 0x63, 0x74, 0x84, 0xaa  …  0x74, 0x2f, 0x74, 0x72, 0x61, 0x6a, 0x2f, 0x73, 0x31, 0x34], nothing, Dict{String, Vector{UInt8}}(), nothing, Dict{String, MeshCat.SceneTrees.SceneNode}()), \"s18\" => MeshCat.SceneTrees.SceneNode(UInt8[0x83, 0xa6, 0x6f, 0x62, 0x6a, 0x65, 0x63, 0x74, 0x84, 0xaa  …  0x74, 0x2f, 0x74, 0x72, 0x61, 0x6a, 0x2f, 0x73, 0x31, 0x38], nothing, Dict{String, Vector{UInt8}}(), nothing, Dict{String, MeshCat.SceneTrees.SceneNode}()), \"s44\" => MeshCat.SceneTrees.SceneNode(UInt8[0x83, 0xa6, 0x6f, 0x62, 0x6a, 0x65, 0x63, 0x74, 0x84, 0xaa  …  0x74, 0x2f, 0x74, 0x72, 0x61, 0x6a, 0x2f, 0x73, 0x34, 0x34], nothing, Dict{String, Vector{UInt8}}(), nothing, Dict{String, MeshCat.SceneTrees.SceneNode}()), \"p43\" => MeshCat.SceneTrees.SceneNode(UInt8[0x83, 0xa6, 0x6f, 0x62, 0x6a, 0x65, 0x63, 0x74, 0x84, 0xaa  …  0x74, 0x2f, 0x74, 0x72, 0x61, 0x6a, 0x2f, 0x70, 0x34, 0x33], nothing, Dict{String, Vector{UInt8}}(), nothing, Dict{String, MeshCat.SceneTrees.SceneNode}()), \"s53\" => MeshCat.SceneTrees.SceneNode(UInt8[0x83, 0xa6, 0x6f, 0x62, 0x6a, 0x65, 0x63, 0x74, 0x84, 0xaa  …  0x74, 0x2f, 0x74, 0x72, 0x61, 0x6a, 0x2f, 0x73, 0x35, 0x33], nothing, Dict{String, Vector{UInt8}}(), nothing, Dict{String, MeshCat.SceneTrees.SceneNode}()), \"s19\" => MeshCat.SceneTrees.SceneNode(UInt8[0x83, 0xa6, 0x6f, 0x62, 0x6a, 0x65, 0x63, 0x74, 0x84, 0xaa  …  0x74, 0x2f, 0x74, 0x72, 0x61, 0x6a, 0x2f, 0x73, 0x31, 0x39], nothing, Dict{String, Vector{UInt8}}(), nothing, Dict{String, MeshCat.SceneTrees.SceneNode}()), \"p60\" => MeshCat.SceneTrees.SceneNode(UInt8[0x83, 0xa6, 0x6f, 0x62, 0x6a, 0x65, 0x63, 0x74, 0x84, 0xaa  …  0x74, 0x2f, 0x74, 0x72, 0x61, 0x6a, 0x2f, 0x70, 0x36, 0x30], nothing, Dict{String, Vector{UInt8}}(), nothing, Dict{String, MeshCat.SceneTrees.SceneNode}()), \"s52\" => MeshCat.SceneTrees.SceneNode(UInt8[0x83, 0xa6, 0x6f, 0x62, 0x6a, 0x65, 0x63, 0x74, 0x84, 0xaa  …  0x74, 0x2f, 0x74, 0x72, 0x61, 0x6a, 0x2f, 0x73, 0x35, 0x32], nothing, Dict{String, Vector{UInt8}}(), nothing, Dict{String, MeshCat.SceneTrees.SceneNode}()), \"s6\" => MeshCat.SceneTrees.SceneNode(UInt8[0x83, 0xa6, 0x6f, 0x62, 0x6a, 0x65, 0x63, 0x74, 0x84, 0xaa  …  0x61, 0x74, 0x2f, 0x74, 0x72, 0x61, 0x6a, 0x2f, 0x73, 0x36], nothing, Dict{String, Vector{UInt8}}(), nothing, Dict{String, MeshCat.SceneTrees.SceneNode}())…)), \"vic\" => MeshCat.SceneTrees.SceneNode(UInt8[0x83, 0xa6, 0x6f, 0x62, 0x6a, 0x65, 0x63, 0x74, 0x84, 0xaa  …  0x65, 0x73, 0x68, 0x63, 0x61, 0x74, 0x2f, 0x76, 0x69, 0x63], nothing, Dict{String, Vector{UInt8}}(), nothing, Dict{String, MeshCat.SceneTrees.SceneNode}()), \"target_load\" => MeshCat.SceneTrees.SceneNode(UInt8[0x83, 0xa6, 0x6f, 0x62, 0x6a, 0x65, 0x63, 0x74, 0x84, 0xaa  …  0x61, 0x72, 0x67, 0x65, 0x74, 0x5f, 0x6c, 0x6f, 0x61, 0x64], nothing, Dict{String, Vector{UInt8}}(), nothing, Dict{String, MeshCat.SceneTrees.SceneNode}()), \"load\" => MeshCat.SceneTrees.SceneNode(UInt8[0x83, 0xa6, 0x6f, 0x62, 0x6a, 0x65, 0x63, 0x74, 0x84, 0xaa  …  0x73, 0x68, 0x63, 0x61, 0x74, 0x2f, 0x6c, 0x6f, 0x61, 0x64], nothing, Dict{String, Vector{UInt8}}(), nothing, Dict{String, MeshCat.SceneTrees.SceneNode}()), \"target\" => MeshCat.SceneTrees.SceneNode(UInt8[0x83, 0xa6, 0x6f, 0x62, 0x6a, 0x65, 0x63, 0x74, 0x84, 0xaa  …  0x63, 0x61, 0x74, 0x2f, 0x74, 0x61, 0x72, 0x67, 0x65, 0x74], nothing, Dict{String, Vector{UInt8}}(), nothing, Dict{String, MeshCat.SceneTrees.SceneNode}()))))), Set{HTTP.WebSockets.WebSocket}(), ip\"127.0.0.1\", 8706))"
      ]
     },
     "metadata": {},
     "output_type": "display_data"
    }
   ],
   "source": [
    "display(animate_quadrotor_load(xs, xs, params.model.dt))"
   ]
  },
  {
   "cell_type": "code",
   "execution_count": 8,
   "metadata": {},
   "outputs": [
    {
     "name": "stdout",
     "output_type": "stream",
     "text": []
    }
   ],
   "source": [
    "xsv = vcat(xs...)\n",
    "usv = vcat(us...)\n",
    "plot(t_vec, xsv[1:3], title = \"Position\", label = [\"x\" \"y\" \"z\"], xlabel = \"Time [s]\", ylabel = \"Position [m]\")\n",
    "display(plot!(t_vec, xsv[4:6], title = \"Velocity\", label = [\"vx\" \"vy\" \"vz\"], xlabel = \"Time [s]\", ylabel = \"Velocity [m/s]\"))"
   ]
  }
 ],
 "metadata": {
  "kernelspec": {
   "display_name": "Julia 1.9.2",
   "language": "julia",
   "name": "julia-1.9"
  },
  "language_info": {
   "file_extension": ".jl",
   "mimetype": "application/julia",
   "name": "julia",
   "version": "1.9.2"
  }
 },
 "nbformat": 4,
 "nbformat_minor": 2
}
