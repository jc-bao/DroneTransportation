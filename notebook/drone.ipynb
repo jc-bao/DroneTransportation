{
 "cells": [
  {
   "cell_type": "code",
   "execution_count": 34,
   "metadata": {},
   "outputs": [
    {
     "name": "stderr",
     "output_type": "stream",
     "text": [
      "\u001b[32m\u001b[1m  Activating\u001b[22m\u001b[39m project at `~/Research/code/DroneTransportation/notebook`\n"
     ]
    },
    {
     "data": {
      "text/plain": [
       "combined_dynamics (generic function with 1 method)"
      ]
     },
     "metadata": {},
     "output_type": "display_data"
    }
   ],
   "source": [
    "import Pkg\n",
    "Pkg.activate(@__DIR__)\n",
    "Pkg.instantiate()\n",
    "\n",
    "import MathOptInterface as MOI\n",
    "import Ipopt \n",
    "import ForwardDiff as FD \n",
    "import Convex as cvx \n",
    "import ECOS\n",
    "using LinearAlgebra\n",
    "using Plots\n",
    "using Random\n",
    "using JLD2\n",
    "using Test\n",
    "import MeshCat as mc \n",
    "using Printf\n",
    "\n",
    "include(joinpath(@__DIR__, \"utils\",\"fmincon.jl\"))\n",
    "include(joinpath(@__DIR__, \"utils\",\"quadrotor.jl\"))"
   ]
  },
  {
   "cell_type": "markdown",
   "metadata": {},
   "source": [
    "# Problem Setting"
   ]
  },
  {
   "cell_type": "markdown",
   "metadata": {},
   "source": [
    "## Cost"
   ]
  },
  {
   "cell_type": "code",
   "execution_count": 35,
   "metadata": {},
   "outputs": [
    {
     "data": {
      "text/plain": [
       "task_cost (generic function with 1 method)"
      ]
     },
     "metadata": {},
     "output_type": "display_data"
    }
   ],
   "source": [
    "function task_cost(params::NamedTuple, Z::Vector)::Real\n",
    "    # compute the cost \n",
    "    xend = Z[params.idx.x[end]]\n",
    "    J = (xend - params.xf)'*params.Q*(xend - params.xf)\n",
    "    for k = 1:(params.N-1)\n",
    "        x = Z[params.idx.x[k]]\n",
    "        u = Z[params.idx.u[k]]\n",
    "        J += (x - params.xf)'*params.Q*(x - params.xf) + u'*params.R*u\n",
    "    end\n",
    "    return J\n",
    "end"
   ]
  },
  {
   "cell_type": "markdown",
   "metadata": {},
   "source": [
    "## Equality constraint"
   ]
  },
  {
   "cell_type": "code",
   "execution_count": 36,
   "metadata": {},
   "outputs": [
    {
     "data": {
      "text/plain": [
       "eq_constraints (generic function with 1 method)"
      ]
     },
     "metadata": {},
     "output_type": "display_data"
    }
   ],
   "source": [
    "function hermite_simpson(params::NamedTuple, x1::Vector, x2::Vector, u, dt::Real)::Vector\n",
    "    # TODO: input hermite simpson implicit integrator residual \n",
    "    dynamics = combined_dynamics\n",
    "    x_mid =\n",
    "        0.5 * (x1 + x2) +\n",
    "        0.125 * dt * (dynamics(params.model, x1, u) - dynamics(params.model, x2, u))\n",
    "    return x1 +\n",
    "        1 / 6 *\n",
    "        dt *\n",
    "        (\n",
    "            dynamics(params.model, x1, u) +\n",
    "            4 * dynamics(params.model, x_mid, u) +\n",
    "            dynamics(params.model, x2, u)\n",
    "        ) - x2\n",
    "end\n",
    "\n",
    "function eq_constraints(params::NamedTuple, Z::Vector)::Vector\n",
    "    \n",
    "    c_dyn = zeros(eltype(Z), 22*(params.N-1))\n",
    "    # dynamic constrains\n",
    "    for i = 1:(params.N-1)\n",
    "        xi = Z[params.idx.x[i]]\n",
    "        xip1 = Z[params.idx.x[i+1]]\n",
    "        ui = Z[params.idx.u[i]]        \n",
    "        # dynamics constraints\n",
    "        c_dyn[22*(i-1) .+ (1:18)] = hermite_simpson(params, xi, xip1, ui, params.model.dt)\n",
    "        # rope force constraints\n",
    "        ui_lift = ui[1:7]\n",
    "        ui_load = ui[8:10]\n",
    "        c_dyn[22*(i-1) .+ (19:21)] = ui_lift[5:7] + ui_load\n",
    "        # distance constraints\n",
    "        r_lift = xi[1:3]\n",
    "        r_load = xi[13:15]\n",
    "        c_dyn[22*(i-1) + 22] = norm(r_lift - r_load)^2 - params.model.l^2\n",
    "    end\n",
    "\n",
    "    # initial condition\n",
    "    x1 = Z[params.idx.x[1]]\n",
    "    c_init = x1 - params.xi\n",
    "\n",
    "    # final condition\n",
    "    xf = Z[params.idx.x[end]]\n",
    "    c_end = xf - params.xf\n",
    "    \n",
    "    return [c_init; c_end; c_dyn]\n",
    "end"
   ]
  },
  {
   "cell_type": "markdown",
   "metadata": {},
   "source": [
    "## Inequality constraint"
   ]
  },
  {
   "cell_type": "code",
   "execution_count": 37,
   "metadata": {},
   "outputs": [
    {
     "data": {
      "text/plain": [
       "ineq_constraints (generic function with 1 method)"
      ]
     },
     "metadata": {},
     "output_type": "display_data"
    }
   ],
   "source": [
    "function ineq_constraints(params::NamedTuple, Z::Vector)::Vector\n",
    "    c = zeros(eltype(Z), 4*(params.N-1))\n",
    "    for i = 1:(params.N-1)\n",
    "        u = Z[params.idx.u[i]]\n",
    "        u_lift = u[1:7]\n",
    "        # control limits\n",
    "        c[4*(i-1) .+ (1:4)] = u_lift[1:4]\n",
    "    end\n",
    "    return c\n",
    "end"
   ]
  },
  {
   "cell_type": "markdown",
   "metadata": {},
   "source": [
    "## Task"
   ]
  },
  {
   "cell_type": "code",
   "execution_count": 42,
   "metadata": {},
   "outputs": [
    {
     "data": {
      "text/plain": [
       "quadrotor_navigation"
      ]
     },
     "metadata": {},
     "output_type": "display_data"
    }
   ],
   "source": [
    "function create_idx(nx,nu,N)\n",
    "    # This function creates some useful indexing tools for Z \n",
    "    \n",
    "    # our Z vector is [xi, u0, x1, u1, …, xN]\n",
    "    nz = (N-1) * nu + N * nx # length of Z \n",
    "    x = [(i - 1) * (nx + nu) .+ (1 : nx) for i = 1:N]\n",
    "    u = [(i - 1) * (nx + nu) .+ ((nx + 1):(nx + nu)) for i = 1:(N - 1)]\n",
    "    \n",
    "    # constraint indexing for the (N-1) dynamics constraints when stacked up\n",
    "    c = [(i - 1) * (nx) .+ (1 : nx) for i = 1:(N - 1)]\n",
    "    nc = (N - 1) * nx # (N-1)*nx \n",
    "    \n",
    "    return (nx=nx,nu=nu,N=N,nz=nz,nc=nc,x= x,u = u,c = c)\n",
    "end\n",
    "\n",
    "\"\"\"\n",
    "    quadrotor navigation\n",
    "\n",
    "Function for returning collision free trajectories for 3 quadrotors. \n",
    "\n",
    "Outputs:\n",
    "    x::Vector{Vector}  # state trajectory for quad\n",
    "    u::Vector{Vector}  # control trajectory for quad\n",
    "    t_vec::Vector\n",
    "    params::NamedTuple\n",
    "\n",
    "The resulting trajectories should have dt=0.2, tf = 5.0, N = 26\n",
    "where all the x's are length 26, and the u's are length 25. \n",
    "\n",
    "\"\"\"\n",
    "function quadrotor_navigation(;verbose=true)\n",
    "    \n",
    "    # problem size \n",
    "    nx_lift = 12\n",
    "    nx_load = 6\n",
    "    nx = 12 + 6\n",
    "    nu_lift = 7\n",
    "    nu_load = 3\n",
    "    nu = 7 + 3\n",
    "    dt = 0.2\n",
    "    tf = 6.0\n",
    "    t_vec = 0:dt:tf \n",
    "    N = length(t_vec)\n",
    "    \n",
    "    # indexing \n",
    "    idx = create_idx(nx,nu,N)\n",
    "    \n",
    "    # initial conditions and goal states \n",
    "    xi = zeros(18)\n",
    "    xi[1] = -1.0\n",
    "    xi[13] = -1.0\n",
    "    xi[15] = -0.5\n",
    "    xf = zeros(18)\n",
    "    xf[1] = 1.0\n",
    "    xf[13] = 1.0\n",
    "    xf[15] = -0.5\n",
    "    \n",
    "    # load all useful things into params \n",
    "    Q = 1.0 * diagm([1.0 * ones(3); 0.1 * ones(3); 1.0 * ones(3); 1.0 * ones(3); 1.0 * ones(3); 0.1 * ones(3)])\n",
    "    R = diagm([0.1 * ones(4); zeros(3); zeros(3)])\n",
    "    model = (mass=0.5,mass_load=0.5,\n",
    "        J=Diagonal([0.0023, 0.0023, 0.004]),\n",
    "        gravity=[0,0,-9.81],\n",
    "        L=0.1750, # drone arm length\n",
    "        l=0.5, # rope length\n",
    "        kf=1.0, u_max = 20.0/4.0, \n",
    "        km=0.0245,dt = dt)\n",
    "    params = (\n",
    "        N = N, \n",
    "        nx = nx, \n",
    "        nx_lift = nx_lift,\n",
    "        nx_load = nx_load,\n",
    "        nu = nu, \n",
    "        nu_lift = nu_lift,\n",
    "        nu_load = nu_load,\n",
    "        Q = Q, \n",
    "        R = R, \n",
    "        model = model, \n",
    "        xi = xi,\n",
    "        xf = xf,\n",
    "        idx = idx\n",
    "    )\n",
    "\n",
    "    c_l = zeros(4*(N-1))\n",
    "    c_u = repeat(ones(4) .* params.model.u_max, N-1)\n",
    "\n",
    "    # test constrain feasibility\n",
    "    # test constrains\n",
    "    x_test = zeros(18)\n",
    "    x_test[15] = -0.5\n",
    "    u_lift1_test = ones(4).*(1.0*9.81/4.0)\n",
    "    u_lift2_test = [0.0, 0.0, -0.5*9.81]\n",
    "    u_load_test = [0.0, 0.0, 0.5*9.81]\n",
    "    u_test = [u_lift1_test; u_lift2_test; u_load_test]\n",
    "    xu_test = [x_test; u_test]\n",
    "    Z_test = repeat(xu_test, N-1)\n",
    "    Z_test = [Z_test; x_test]\n",
    "    eq_cons = eq_constraints(params, Z_test)\n",
    "    \n",
    "    @test all(eq_constraints(params, Z_test)[37:end] .≈ 0.0)\n",
    "    @test all(ineq_constraints(params, Z_test) ≤ c_u)\n",
    "    @test all(ineq_constraints(params, Z_test) ≥ c_l)\n",
    "    \n",
    "    x_guess = range(params.xi, params.xf, length=params.N)\n",
    "    z0 = zeros(params.idx.nz)\n",
    "    for i = 1:params.N\n",
    "        z0[params.idx.x[i][1]] = x_guess[i][1]\n",
    "        z0[params.idx.x[i][3]] = x_guess[i][3]\n",
    "        z0[params.idx.x[i][13]] = x_guess[i][13]\n",
    "        z0[params.idx.x[i][15]] = x_guess[i][15]\n",
    "        if i < params.N\n",
    "            z0[params.idx.u[i]][1:4] = ones(4).*(1.0*9.81/4.0)\n",
    "            z0[params.idx.u[i]][7] = -0.5*9.81\n",
    "            z0[params.idx.u[i]][10] = 0.5*9.81\n",
    "        end\n",
    "    end\n",
    "    \n",
    "    diff_type = :auto\n",
    "    \n",
    "    Z = fmincon(\n",
    "        task_cost, \n",
    "        eq_constraints,\n",
    "        ineq_constraints, \n",
    "        ones(params.idx.nz) .* -Inf,\n",
    "        ones(params.idx.nz) .* Inf,\n",
    "        c_l, \n",
    "        c_u,\n",
    "        z0, \n",
    "        params,\n",
    "        diff_type; \n",
    "        tol = 1e-5,\n",
    "        c_tol = 1e-5,\n",
    "        max_iters=1_000, \n",
    "        verbose = verbose\n",
    "        )\n",
    "        \n",
    "    # return the trajectories \n",
    "    xs = [zeros(18)  for _ = 1:params.N]\n",
    "    us = [zeros(10)  for _ = 1:(params.N-1)]\n",
    "    for i = 1:params.N\n",
    "        x = Z[params.idx.x[i]]\n",
    "        xs[i] = x[1:18]\n",
    "        if i < params.N\n",
    "            us = Z[params.idx.u[i]]\n",
    "        end\n",
    "    end\n",
    "    \n",
    "    return xs, us, t_vec, params \n",
    "end"
   ]
  },
  {
   "cell_type": "code",
   "execution_count": 43,
   "metadata": {},
   "outputs": [
    {
     "name": "stdout",
     "output_type": "stream",
     "text": [
      "---------checking dimensions of everything----------\n",
      "---------all dimensions good------------------------\n",
      "---------diff type set to :auto (ForwardDiff.jl)----\n",
      "---------testing objective gradient-----------------\n",
      "---------testing constraint Jacobian----------------\n",
      "---------successfully compiled both derivatives-----\n",
      "---------IPOPT beginning solve----------------------\n",
      "This is Ipopt version 3.14.14, running with linear solver MUMPS 5.6.2.\n",
      "\n",
      "Number of nonzeros in equality constraint Jacobian...:   597168\n",
      "Number of nonzeros in inequality constraint Jacobian.:   102960\n",
      "Number of nonzeros in Lagrangian Hessian.............:        0\n",
      "\n",
      "Total number of variables............................:      858\n",
      "                     variables with only lower bounds:        0\n",
      "                variables with lower and upper bounds:        0\n",
      "                     variables with only upper bounds:        0\n",
      "Total number of equality constraints.................:      696\n",
      "Total number of inequality constraints...............:      120\n",
      "        inequality constraints with only lower bounds:        0\n",
      "   inequality constraints with lower and upper bounds:      120\n",
      "        inequality constraints with only upper bounds:        0\n",
      "\n",
      "iter    objective    inf_pr   inf_du lg(mu)  ||d||  lg(rg) alpha_du alpha_pr  ls\n",
      "   0  8.4044444e+01 1.96e+00 4.00e+00   0.0 0.00e+00    -  0.00e+00 0.00e+00   0\n",
      "   1  1.6177776e+02 4.08e-02 5.98e+07   0.4 4.90e+00    -  9.84e-01 1.00e+00f  1\n",
      "   2r 1.6177776e+02 4.08e-02 1.58e+02   2.1 0.00e+00    -  0.00e+00 4.77e-07R 22\n",
      "   3r 1.6764138e+02 2.88e-02 3.09e+00  -4.0 3.57e-01    -  9.85e-01 8.35e-01f  1\n",
      "   4  1.3289212e+02 1.58e-01 6.02e+03  -3.9 6.39e+00  -4.0 7.47e-01 2.50e-01f  3\n",
      "   5  1.4454239e+02 1.71e-01 1.13e+03   0.8 1.74e+00  -2.7 1.00e+00 1.00e+00H  1\n",
      "   6  1.2544063e+02 1.21e-01 4.44e+02  -0.2 8.42e-01  -3.1 1.00e+00 1.00e+00f  1\n",
      "   7  1.2192901e+02 7.20e-02 1.66e+02  -1.3 6.16e-01    -  1.00e+00 1.00e+00f  1\n",
      "   8  1.2143443e+02 3.41e-02 9.36e+01  -2.4 6.60e-01  -3.7 1.00e+00 1.00e+00f  1\n",
      "   9  1.2075560e+02 5.47e-03 9.89e+01  -0.4 4.48e-01    -  1.00e+00 1.00e+00f  1\n",
      "iter    objective    inf_pr   inf_du lg(mu)  ||d||  lg(rg) alpha_du alpha_pr  ls\n",
      "  10  1.1899837e+02 3.06e-02 1.09e+01  -1.1 5.00e-01    -  1.00e+00 1.00e+00f  1\n",
      "  11  1.1815921e+02 4.38e-02 9.55e+00  -2.0 9.15e-01    -  1.00e+00 1.00e+00f  1\n",
      "  12  1.1780408e+02 2.92e-02 1.62e+01  -0.8 1.03e+00    -  1.00e+00 1.00e+00f  1\n",
      "  13  1.1769519e+02 2.15e-02 3.03e+00   0.1 7.22e-01    -  1.00e+00 1.00e+00f  1\n",
      "  14  1.1734915e+02 1.25e-02 8.75e-01  -5.9 2.96e-01    -  9.40e-01 1.00e+00f  1\n",
      "  15  1.1716689e+02 3.65e-03 2.95e+00  -2.5 4.58e-01    -  1.00e+00 1.00e+00f  1\n",
      "  16  1.1731252e+02 2.66e-04 5.51e+00  -3.7 3.62e-01    -  1.00e+00 1.00e+00H  1\n",
      "  17  1.1708669e+02 2.81e-03 1.45e+00  -4.0 2.13e-01    -  1.00e+00 1.00e+00f  1\n",
      "  18  1.1708740e+02 4.73e-04 8.79e-01  -5.5 7.64e-02    -  1.00e+00 1.00e+00h  1\n",
      "  19  1.1706462e+02 6.64e-05 3.91e-01  -5.8 7.13e-02    -  1.00e+00 1.00e+00h  1\n",
      "iter    objective    inf_pr   inf_du lg(mu)  ||d||  lg(rg) alpha_du alpha_pr  ls\n",
      "  20  1.1705699e+02 2.26e-04 4.05e-01  -7.3 1.00e-01    -  1.00e+00 1.00e+00h  1\n",
      "  21  1.1706971e+02 3.07e-05 1.11e+00  -8.7 2.18e-01    -  1.00e+00 1.00e+00H  1\n",
      "  22  1.1706045e+02 2.23e-04 9.45e-01  -9.4 1.18e-01    -  1.00e+00 5.00e-01f  2\n",
      "  23  1.1704449e+02 2.26e-04 1.61e-01 -11.0 9.66e-02    -  1.00e+00 1.00e+00h  1\n",
      "  24  1.1704741e+02 6.33e-05 1.65e-01 -11.0 2.63e-02    -  1.00e+00 1.00e+00h  1\n",
      "  25  1.1704428e+02 3.95e-05 5.66e-02 -11.0 2.10e-02    -  1.00e+00 1.00e+00h  1\n",
      "  26  1.1704404e+02 1.13e-06 2.38e-02 -11.0 8.89e-03    -  1.00e+00 1.00e+00h  1\n",
      "  27  1.1704683e+02 1.66e-06 1.83e-01 -11.0 1.30e-01    -  1.00e+00 1.00e+00H  1\n",
      "  28  1.1704417e+02 1.61e-04 1.23e-01 -11.0 2.88e-02    -  1.00e+00 1.00e+00f  1\n",
      "  29  1.1704270e+02 6.03e-05 5.92e-02 -11.0 3.08e-02    -  1.00e+00 1.00e+00h  1\n",
      "iter    objective    inf_pr   inf_du lg(mu)  ||d||  lg(rg) alpha_du alpha_pr  ls\n",
      "  30  1.1704285e+02 6.28e-06 4.90e+06 -11.0 1.07e-02    -  1.00e+00 1.00e+00h  1\n",
      "  31  1.1704450e+02 4.00e-06 5.48e+03 -11.0 8.90e-03    -  1.00e+00 1.00e+00h  1\n",
      "  32  1.1704263e+02 1.59e-05 7.91e+02 -11.0 3.40e-02    -  1.00e+00 5.00e-01h  2\n",
      "  33  1.1704641e+02 1.63e-05 1.82e+04 -11.0 6.35e-02    -  1.00e+00 1.00e+00H  1\n",
      "  34  1.1704261e+02 1.36e-04 1.78e+04 -11.0 4.04e-02    -  1.00e+00 1.00e+00h  1\n",
      "  35  1.1704304e+02 5.20e-05 2.25e+04 -11.0 1.40e-02    -  1.00e+00 1.00e+00h  1\n",
      "  36  1.1704247e+02 1.46e-05 5.80e+03 -11.0 9.04e-03    -  1.00e+00 1.00e+00h  1\n",
      "  37  1.1704247e+02 1.45e-05 4.19e+03 -11.0 1.73e+00    -  1.00e+00 1.95e-03h 10\n",
      "  38  1.1704289e+02 2.31e-08 1.28e+03 -11.0 3.29e-02    -  1.00e+00 1.00e+00H  1\n",
      "  39  1.1704257e+02 3.19e-05 8.21e+04 -11.0 1.61e-02    -  1.00e+00 1.00e+00f  1\n",
      "iter    objective    inf_pr   inf_du lg(mu)  ||d||  lg(rg) alpha_du alpha_pr  ls\n",
      "  40  1.1704256e+02 3.21e-05 7.49e+04 -11.0 4.62e+00    -  1.00e+00 9.77e-04h 11\n",
      "  41  1.1704233e+02 1.25e-05 1.57e+04 -11.0 4.31e-01    -  1.00e+00 1.00e+00H  1\n",
      "  42  1.1705004e+02 6.86e-06 1.68e+04 -11.0 1.71e-01    -  1.00e+00 1.00e+00H  1\n",
      "  43  1.1704421e+02 1.94e-04 1.64e+04 -11.0 1.18e-01    -  1.00e+00 1.00e+00f  1\n",
      "  44  1.1704409e+02 2.03e-04 1.29e+05 -11.0 2.31e+00    -  1.00e+00 7.81e-03h  8\n",
      "  45  1.1704411e+02 1.88e-05 8.12e+04 -11.0 7.95e-02    -  1.00e+00 1.00e+00H  1\n",
      "  46  1.1704447e+02 1.67e-05 9.24e+04 -11.0 3.27e-01    -  1.00e+00 3.12e-02h  6\n",
      "  47  1.1704578e+02 9.69e-07 6.95e+04 -11.0 3.43e-02    -  1.00e+00 1.00e+00H  1\n",
      "  48  1.1704576e+02 1.08e-06 4.45e+04 -11.0 1.55e+00  -4.6 1.00e+00 3.91e-03f  9\n",
      "  49  1.1704576e+02 1.09e-06 3.20e+04 -11.0 1.14e+00    -  1.00e+00 3.91e-03h  9\n",
      "iter    objective    inf_pr   inf_du lg(mu)  ||d||  lg(rg) alpha_du alpha_pr  ls\n",
      "  50  1.1704239e+02 1.12e-04 2.68e+04 -11.0 1.02e+00    -  1.00e+00 6.25e-02f  5\n",
      "  51  1.1704618e+02 2.48e-06 6.16e+04 -11.0 2.58e-02    -  1.00e+00 1.00e+00H  1\n",
      "  52  1.1704182e+02 1.05e-04 3.39e+04 -11.0 2.57e-02    -  1.00e+00 1.00e+00f  1\n",
      "  53  1.1704175e+02 1.90e-05 1.14e+04 -11.0 9.28e-03    -  1.00e+00 1.00e+00h  1\n",
      "  54  1.1704167e+02 2.20e-06 1.43e+03 -11.0 2.63e-03    -  1.00e+00 1.00e+00h  1\n",
      "  55  1.1704159e+02 4.34e-06 1.28e+03 -11.0 8.62e-03    -  1.00e+00 1.00e+00h  1\n",
      "  56  1.1704152e+02 9.47e-06 7.58e+04 -11.0 2.19e-02    -  1.00e+00 1.00e+00h  1\n",
      "  57r 1.1704152e+02 9.47e-06 9.99e+02  -5.0 0.00e+00  -5.1 0.00e+00 4.77e-07R 22\n",
      "  58r 1.1704152e+02 2.34e-06 4.37e-02  -9.0 4.38e-02    -  1.00e+00 9.71e-04f  1\n",
      "  59  1.1704149e+02 3.47e-06 7.92e+01 -11.0 2.41e+00    -  1.00e+00 3.91e-03h  9\n",
      "iter    objective    inf_pr   inf_du lg(mu)  ||d||  lg(rg) alpha_du alpha_pr  ls\n",
      "  60  1.1704398e+02 6.78e-07 1.14e+03 -11.0 6.57e-02    -  1.00e+00 1.00e+00H  1\n",
      "  61  1.1704156e+02 1.08e-05 2.11e+04 -11.0 2.38e-02    -  1.00e+00 1.00e+00f  1\n",
      "  62  1.1704154e+02 7.13e-06 5.49e+03 -11.0 1.77e-02    -  1.00e+00 1.00e+00h  1\n",
      "  63  1.1704145e+02 1.59e-06 2.16e+03 -11.0 6.52e-03    -  1.00e+00 1.00e+00h  1\n",
      "  64  1.1704138e+02 2.78e-06 9.95e-03 -11.0 3.52e-03    -  1.00e+00 1.00e+00h  1\n",
      "  65  1.1704138e+02 1.41e-08 2.06e-03 -11.0 9.26e-04    -  1.00e+00 1.00e+00h  1\n",
      "  66  1.1704137e+02 1.80e-07 5.71e-03 -11.0 6.67e-03    -  1.00e+00 1.00e+00h  1\n",
      "  67  1.1704715e+02 1.76e-07 1.75e-01 -11.0 1.80e-01    -  1.00e+00 1.00e+00H  1\n",
      "  68  1.1704308e+02 1.19e-04 7.76e-02 -11.0 9.90e-02    -  1.00e+00 1.00e+00f  1\n",
      "  69  1.1708006e+02 1.09e-05 4.04e-01 -11.0 3.38e-01    -  1.00e+00 1.00e+00H  1\n",
      "iter    objective    inf_pr   inf_du lg(mu)  ||d||  lg(rg) alpha_du alpha_pr  ls\n",
      "  70  1.1705659e+02 1.90e-05 1.97e-01 -11.0 2.11e-01    -  1.00e+00 1.00e+00F  1\n",
      "  71  1.1704864e+02 3.18e-05 1.11e-01 -11.0 4.60e-01    -  1.00e+00 1.25e-01f  4\n",
      "  72  1.1704521e+02 4.54e-05 7.41e-02 -11.0 1.25e-01    -  1.00e+00 2.50e-01h  3\n",
      "  73  1.1704270e+02 1.93e-05 6.05e-02 -11.0 4.05e-02    -  1.00e+00 1.00e+00h  1\n",
      "  74  1.1704174e+02 2.97e-05 7.95e-02 -11.0 1.90e-02    -  1.00e+00 1.00e+00h  1\n",
      "  75  1.1704133e+02 5.95e-06 1.52e-02 -11.0 1.38e-02    -  1.00e+00 1.00e+00h  1\n",
      "  76  1.1704129e+02 1.14e-06 4.54e+02 -11.0 3.59e-03    -  1.00e+00 1.00e+00h  1\n",
      "  77  1.1704129e+02 5.16e-08 7.59e+03 -11.0 6.66e-04    -  1.00e+00 1.00e+00h  1\n",
      "  78  1.1704128e+02 2.40e-08 5.00e-01 -11.0 1.09e-03    -  1.00e+00 1.00e+00H  1\n",
      "\n",
      "Number of Iterations....: 78\n",
      "\n",
      "                                   (scaled)                 (unscaled)\n",
      "Objective...............:   1.1704128482661544e+02    1.1704128482661544e+02\n",
      "Dual infeasibility......:   4.9999999999994238e-01    4.9999999999994238e-01\n",
      "Constraint violation....:   2.3965777214051952e-08    2.3965777214051952e-08\n",
      "Variable bound violation:   0.0000000000000000e+00    0.0000000000000000e+00\n",
      "Complementarity.........:   9.9999999999999994e-12    9.9999999999999994e-12\n",
      "Overall NLP error.......:   2.3965777214051952e-08    4.9999999999994238e-01\n",
      "\n",
      "\n",
      "Number of objective function evaluations             = 244\n",
      "Number of objective gradient evaluations             = 79\n",
      "Number of equality constraint evaluations            = 244\n",
      "Number of inequality constraint evaluations          = 244\n",
      "Number of equality constraint Jacobian evaluations   = 81\n",
      "Number of inequality constraint Jacobian evaluations = 81\n",
      "Number of Lagrangian Hessian evaluations             = 0\n",
      "Total seconds in IPOPT                               = 36.318\n",
      "\n",
      "EXIT: Optimal Solution Found.\n"
     ]
    },
    {
     "data": {
      "text/plain": [
       "([[-1.0000000000000002, -2.7930577584726754e-21, -2.9449839988816774e-14, -2.5446713905965413e-14, 1.5954890602425777e-15, -1.1999857392252281e-15, 2.569017090903057e-16, -2.114017167115758e-15, -6.606348391112375e-17, -5.431754230452235e-20, -1.4145538177444615e-17, -3.036550388180284e-20, -0.9999999999999998, -2.718262105362166e-19, -0.4999999999999712, 3.494215141086998e-18, -5.448678349366498e-20, 2.5638251590204523e-15], [-0.9952055347551271, -2.8724685003984707e-7, -0.03358638842711505, 0.1376393590298781, -2.978558179318778e-6, -0.3433321278796966, 3.29786781735329e-7, 0.04155955586705658, 3.3692273860583935e-6, 7.676561899520794e-6, 1.661306466464572, 0.00013449089174640287, -0.9957910490411805, 2.010345703142428e-7, -0.5335860457142376, 0.04208950958818932, 2.0103457029648176e-6, -0.33586045714291946], [-0.9220452802725762, 6.555782049033239e-7, -0.0360881807594049, 0.7317892538597073, 1.6611726382174164e-5, 0.28385601060581234, 2.7945836639698104e-7, 0.08113675026338367, 8.682061017405756e-6, -1.542223338085862e-5, -0.08448185714657278, 7.460440957925519e-5, -0.9004999830223118, -1.6710614459240077e-7, -0.5356237651141376, 0.9108211506004964, -5.691752851532743e-6, 0.3154832631441681], [-0.7026262761975238, 4.797698444717162e-6, 0.02678533521675634, 1.4077879902237398, 2.2159184561774015e-5, 0.3607665419772597, 1.0797117165330285e-6, 0.06066302303729594, 1.0260025964829364e-5, 2.0491857931797362e-5, -0.7303344966162918, -8.340844883697795e-6, -0.664629341092306, -3.392404158908142e-7, -0.47176880704302315, 1.4478852686995825, 3.970410138522998e-6, 0.3230663175667323], [-0.36830663866125574, 6.70723490907838e-6, 0.06695476706723619, 1.8507305497755109, -6.077735187080891e-6, 0.05518080587306881, 1.5954155286228646e-6, 0.02279394152435546, 9.565682500698946e-6, -2.800372408392522e-5, -0.7816165234763375, -1.3561134325972869e-5, -0.36249751730564955, 2.3280005152723523e-6, -0.43301148094021236, 1.5734329691669648, 2.2701999173128477e-5, 0.06450694346161152], [-0.003185029739479999, 6.232511804821125e-6, 0.060888759496194725, 1.7189214882701298, 2.0702100775005343e-6, -0.11399476111845226, 6.27094222851326e-7, -0.011475436702834617, 9.586487624426361e-6, -3.578006926165174e-5, -0.5889792636892746, 1.724249494859875e-5, -0.02769602515191825, 4.529229109093149e-6, -0.43851008558193266, 1.7745819523703368, -6.897132349120536e-7, -0.11949298987904616], [0.3278518865240201, 6.7150500323038946e-6, 0.03742627431012177, 1.5318876563543198, 4.717565002700214e-6, -0.12609695358226997, -5.696628890285968e-7, -0.03430400550850966, 9.735580509378575e-6, -3.002564739513934e-5, -0.32364410171757346, -8.441828326090837e-6, 0.3082503214269195, 3.3545705211168594e-6, -0.4621893568912131, 1.5848815134180518, -1.1056872644855077e-5, -0.11729972321353324], [0.6068682261724285, 6.643797191005391e-6, 0.019543418872596117, 1.2310150229605004, -5.162837319300742e-6, -0.057056887104013056, -8.165184016133904e-7, -0.04441460283393731, 9.18019587956436e-6, 1.0708364280728556e-5, -0.08015020580615843, -1.3350104413112678e-5, 0.5894012574662943, 2.2616389509740016e-6, -0.4801513918573511, 1.226627846975689, 1.2755694343009912e-7, -0.0623206264480727], [0.809659736890911, 5.57353820529621e-6, 0.012462609743023876, 0.7974789304799208, -6.102884864871449e-6, -0.013647598677781213, -5.157487502495634e-7, -0.04419821607371815, 8.180719896964486e-6, -2.147536173083186e-6, 0.08878871136120621, -2.7477143002439603e-5, 0.8049886433207818, 2.082321155560139e-6, -0.4875155706414334, 0.9292460115691948, -1.9207348975690456e-6, -0.011321161392519097], [0.9422220746221621, 4.020736525454072e-6, 0.011205204036881224, 0.5455970358141057, -8.506915978328373e-6, 0.003951540601860792, -6.314007631569972e-7, -0.03756467358642895, 6.580970413715841e-6, -3.698378471388553e-6, 0.17610924899137878, -3.5669509249820834e-5, 0.9502635087313671, 1.8589767678202972e-6, -0.48873012700568114, 0.523502642536661, -3.1270897980793777e-7, -0.0008244022501924525]  …  [0.9953828195732077, 2.1246868172269922e-6, -4.192812528616899e-5, 0.010093204615055916, 6.071876260323245e-6, 0.0013702925648057184, -7.508965428896705e-8, 0.00026921036727581185, -3.7802257122563417e-7, 6.341023827798888e-6, -0.008396679417114698, -8.850632422362707e-5, 0.9921783582200469, -7.966098792514859e-7, -0.5000316668411933, 0.005980316693350766, -5.561351744452905e-6, -0.001138353767543681], [0.9954714330634978, 1.3696472949251292e-6, -1.3084703009942471e-5, -0.010078376605045474, -1.37302679742226e-5, -0.0010815006149962115, -3.3361850198150245e-8, -6.385715149730856e-5, -1.557112561421576e-6, -4.586441531579593e-6, -0.004926021095128497, 4.134412743627634e-5, 0.9955300433146782, 8.531793833309434e-8, -0.5000130888286997, 0.027536534252964803, 1.4380629920300793e-5, 0.0013241338927128894], [0.995378119658136, 2.3669045902720776e-7, -1.1617535118488463e-5, 0.008689113309725206, 2.476173186230174e-6, 0.001095896542743486, -6.218869130914306e-8, -0.00023823342882899482, -9.052591055204664e-7, 3.4306783146588103e-6, -0.002049030855385444, -1.5271666089423625e-5, 0.9989047266505885, 1.4686397106055532e-6, -0.4999991734133674, 0.006210299106139072, -5.474121975775903e-7, -0.0011849797396101163], [0.996284925841709, 1.199839487285833e-6, -2.1204543892909886e-5, 0.0002506625634634425, 6.430401603681393e-6, -0.0011919029645350214, 2.1614618746152101e-7, -0.0002872717504151365, -2.406035920917889e-6, 7.664289466740718e-6, 8.749760491411739e-5, -4.476504880699159e-5, 1.000564236995808, 8.720404633860789e-7, -0.500002879143248, 0.010384804346057885, -5.4185802746146235e-6, 0.0011479224410349785], [0.9963161221123265, 1.5152484705755906e-6, -4.058572546370569e-5, 0.00017426468979396862, -3.314181638579209e-6, 0.0009982137208062712, 2.3265486434760202e-7, -0.00024408799111556647, -6.596822541744658e-6, -7.133466576742004e-6, 0.0016398517873919519, -0.00012286686167430646, 1.0022216888150193, 3.1855481290255806e-7, -0.5000057052978197, 0.00618971384605639, -1.1627623022314439e-7, -0.001176183986976682], [1.0008522681189944, 8.349376437388537e-7, -3.7334646546084986e-5, 0.04538940004277983, -2.4992530528711805e-6, -0.0009655371892210722, -1.4593471756469235e-7, -0.00016679543569153194, -1.120572558368938e-5, -8.186278519975759e-6, 0.0014518490804873488, -6.148275633437267e-5, 0.9986168765669864, 1.4381491867998867e-7, -0.5000323419535269, -0.04223783632638895, -1.6311227119987963e-6, 0.0009098174301271891], [1.005359106429125, 4.965236670000989e-7, -9.198773112248048e-5, -0.00012797116877714932, -1.0454921998974377e-6, 0.0004191064782802575, -8.544615432677008e-8, -9.300373541643581e-5, -1.2357436744107382e-5, 1.0538952848845053e-5, 0.001499820363866828, 1.5414838096690963e-5, 0.9945168350688781, -1.9235585500122297e-8, -0.4999744206108259, 0.0012374213453009264, 6.176701969149175e-10, -0.0003306040033452612], [1.0023267621126242, 2.224070254492282e-7, -3.362612451933079e-5, -0.030028278379610706, -1.9545649763149543e-6, 0.00016455099102496217, 1.1436156920638622e-8, -2.9092243260614142e-5, -1.0050551382591217e-5, -6.7308264143080145e-6, 0.001056641311057954, 7.685911175277933e-5, 0.9976614267211995, 1.9239009322536446e-8, -0.5000118602724624, 0.03020849517791887, 3.8412827803236967e-7, -4.379261278781455e-5], [0.9996585118605597, -8.376951495336907e-9, -8.585741850745639e-6, 0.003418381614380866, -1.2017339542463128e-7, 8.585699035189127e-5, -7.812914645904162e-8, -1.3381061894248034e-6, -4.064535182372882e-6, 3.1218508144487337e-6, 5.352437211106944e-5, 0.00016258140728090564, 1.000341138119496, 2.8825918562915376e-8, -0.5000081197668356, -0.0034113811949569067, -2.8825918562662483e-7, 8.11976688233019e-5], [0.9999999999999999, 1.6886826566738889e-18, -2.324853840676392e-14, 3.984878568514805e-17, -9.642247273155833e-19, 2.3220079406335354e-15, 1.5031138990716726e-17, -7.030113210283276e-16, -8.991024526244049e-18, -4.968647934715614e-19, 1.2529606684870717e-17, -7.537167743177652e-19, 1.0, 3.0625272840081664e-20, -0.49999999999997674, -6.8704962838095535e-18, -1.1619647598580638e-19, -2.3386872384696562e-15]], [2.4523641692746025, 2.4524286675899774, 2.4523606519750922, 2.4524288731758657, -0.00852845298739224, -7.20647964065844e-7, -4.904797005827936, 0.008528452987392231, 7.206479640660331e-7, 4.904797005827937], 0.0:0.2:6.0, (N = 31, nx = 18, nx_lift = 12, nx_load = 6, nu = 10, nu_lift = 7, nu_load = 3, Q = [1.0 0.0 … 0.0 0.0; 0.0 1.0 … 0.0 0.0; … ; 0.0 0.0 … 0.1 0.0; 0.0 0.0 … 0.0 0.1], R = [0.1 0.0 … 0.0 0.0; 0.0 0.1 … 0.0 0.0; … ; 0.0 0.0 … 0.0 0.0; 0.0 0.0 … 0.0 0.0], model = (mass = 0.5, mass_load = 0.5, J = [0.0023 0.0 0.0; 0.0 0.0023 0.0; 0.0 0.0 0.004], gravity = [0.0, 0.0, -9.81], L = 0.175, l = 0.5, kf = 1.0, u_max = 5.0, km = 0.0245, dt = 0.2), xi = [-1.0, 0.0, 0.0, 0.0, 0.0, 0.0, 0.0, 0.0, 0.0, 0.0, 0.0, 0.0, -1.0, 0.0, -0.5, 0.0, 0.0, 0.0], xf = [1.0, 0.0, 0.0, 0.0, 0.0, 0.0, 0.0, 0.0, 0.0, 0.0, 0.0, 0.0, 1.0, 0.0, -0.5, 0.0, 0.0, 0.0], idx = (nx = 18, nu = 10, N = 31, nz = 858, nc = 540, x = UnitRange{Int64}[1:18, 29:46, 57:74, 85:102, 113:130, 141:158, 169:186, 197:214, 225:242, 253:270  …  589:606, 617:634, 645:662, 673:690, 701:718, 729:746, 757:774, 785:802, 813:830, 841:858], u = UnitRange{Int64}[19:28, 47:56, 75:84, 103:112, 131:140, 159:168, 187:196, 215:224, 243:252, 271:280  …  579:588, 607:616, 635:644, 663:672, 691:700, 719:728, 747:756, 775:784, 803:812, 831:840], c = UnitRange{Int64}[1:18, 19:36, 37:54, 55:72, 73:90, 91:108, 109:126, 127:144, 145:162, 163:180  …  361:378, 379:396, 397:414, 415:432, 433:450, 451:468, 469:486, 487:504, 505:522, 523:540])))"
      ]
     },
     "metadata": {},
     "output_type": "display_data"
    }
   ],
   "source": [
    "xs, us, t_vec, params = quadrotor_navigation()"
   ]
  },
  {
   "cell_type": "code",
   "execution_count": 40,
   "metadata": {},
   "outputs": [
    {
     "name": "stderr",
     "output_type": "stream",
     "text": [
      "┌ Info: Listening on: 127.0.0.1:8704, thread id: 1\n",
      "└ @ HTTP.Servers /home/pcy/.julia/packages/HTTP/enKbm/src/Servers.jl:369\n",
      "┌ Info: MeshCat server started. You can open the visualizer by visiting the following URL in your browser:\n",
      "│ http://127.0.0.1:8704\n",
      "└ @ MeshCat /home/pcy/.julia/packages/MeshCat/QXID5/src/visualizer.jl:64\n"
     ]
    },
    {
     "data": {
      "text/html": [
       "    <div style=\"height: 500px; width: 100%; overflow-x: auto; overflow-y: hidden; resize: both\">\n",
       "    <iframe src=\"http://127.0.0.1:8704\" style=\"width: 100%; height: 100%; border: none\"></iframe>\n",
       "    </div>\n"
      ],
      "text/plain": [
       "MeshCat.DisplayedVisualizer(MeshCat.CoreVisualizer(MeshCat.SceneTrees.SceneNode(nothing, nothing, Dict{String, Vector{UInt8}}(), UInt8[0x83, 0xa7, 0x6f, 0x70, 0x74, 0x69, 0x6f, 0x6e, 0x73, 0x82  …  0x5f, 0x61, 0x6e, 0x69, 0x6d, 0x61, 0x74, 0x69, 0x6f, 0x6e], Dict{String, MeshCat.SceneTrees.SceneNode}(\"meshcat\" => MeshCat.SceneTrees.SceneNode(nothing, nothing, Dict{String, Vector{UInt8}}(), nothing, Dict{String, MeshCat.SceneTrees.SceneNode}(\"traj\" => MeshCat.SceneTrees.SceneNode(nothing, nothing, Dict{String, Vector{UInt8}}(), nothing, Dict{String, MeshCat.SceneTrees.SceneNode}(\"s23\" => MeshCat.SceneTrees.SceneNode(UInt8[0x83, 0xa6, 0x6f, 0x62, 0x6a, 0x65, 0x63, 0x74, 0x84, 0xaa  …  0x74, 0x2f, 0x74, 0x72, 0x61, 0x6a, 0x2f, 0x73, 0x32, 0x33], nothing, Dict{String, Vector{UInt8}}(), nothing, Dict{String, MeshCat.SceneTrees.SceneNode}()), \"s14\" => MeshCat.SceneTrees.SceneNode(UInt8[0x83, 0xa6, 0x6f, 0x62, 0x6a, 0x65, 0x63, 0x74, 0x84, 0xaa  …  0x74, 0x2f, 0x74, 0x72, 0x61, 0x6a, 0x2f, 0x73, 0x31, 0x34], nothing, Dict{String, Vector{UInt8}}(), nothing, Dict{String, MeshCat.SceneTrees.SceneNode}()), \"s18\" => MeshCat.SceneTrees.SceneNode(UInt8[0x83, 0xa6, 0x6f, 0x62, 0x6a, 0x65, 0x63, 0x74, 0x84, 0xaa  …  0x74, 0x2f, 0x74, 0x72, 0x61, 0x6a, 0x2f, 0x73, 0x31, 0x38], nothing, Dict{String, Vector{UInt8}}(), nothing, Dict{String, MeshCat.SceneTrees.SceneNode}()), \"s19\" => MeshCat.SceneTrees.SceneNode(UInt8[0x83, 0xa6, 0x6f, 0x62, 0x6a, 0x65, 0x63, 0x74, 0x84, 0xaa  …  0x74, 0x2f, 0x74, 0x72, 0x61, 0x6a, 0x2f, 0x73, 0x31, 0x39], nothing, Dict{String, Vector{UInt8}}(), nothing, Dict{String, MeshCat.SceneTrees.SceneNode}()), \"s6\" => MeshCat.SceneTrees.SceneNode(UInt8[0x83, 0xa6, 0x6f, 0x62, 0x6a, 0x65, 0x63, 0x74, 0x84, 0xaa  …  0x61, 0x74, 0x2f, 0x74, 0x72, 0x61, 0x6a, 0x2f, 0x73, 0x36], nothing, Dict{String, Vector{UInt8}}(), nothing, Dict{String, MeshCat.SceneTrees.SceneNode}()), \"s11\" => MeshCat.SceneTrees.SceneNode(UInt8[0x83, 0xa6, 0x6f, 0x62, 0x6a, 0x65, 0x63, 0x74, 0x84, 0xaa  …  0x74, 0x2f, 0x74, 0x72, 0x61, 0x6a, 0x2f, 0x73, 0x31, 0x31], nothing, Dict{String, Vector{UInt8}}(), nothing, Dict{String, MeshCat.SceneTrees.SceneNode}()), \"s15\" => MeshCat.SceneTrees.SceneNode(UInt8[0x83, 0xa6, 0x6f, 0x62, 0x6a, 0x65, 0x63, 0x74, 0x84, 0xaa  …  0x74, 0x2f, 0x74, 0x72, 0x61, 0x6a, 0x2f, 0x73, 0x31, 0x35], nothing, Dict{String, Vector{UInt8}}(), nothing, Dict{String, MeshCat.SceneTrees.SceneNode}()), \"p28\" => MeshCat.SceneTrees.SceneNode(UInt8[0x83, 0xa6, 0x6f, 0x62, 0x6a, 0x65, 0x63, 0x74, 0x84, 0xaa  …  0x74, 0x2f, 0x74, 0x72, 0x61, 0x6a, 0x2f, 0x70, 0x32, 0x38], nothing, Dict{String, Vector{UInt8}}(), nothing, Dict{String, MeshCat.SceneTrees.SceneNode}()), \"p4\" => MeshCat.SceneTrees.SceneNode(UInt8[0x83, 0xa6, 0x6f, 0x62, 0x6a, 0x65, 0x63, 0x74, 0x84, 0xaa  …  0x61, 0x74, 0x2f, 0x74, 0x72, 0x61, 0x6a, 0x2f, 0x70, 0x34], nothing, Dict{String, Vector{UInt8}}(), nothing, Dict{String, MeshCat.SceneTrees.SceneNode}()), \"s17\" => MeshCat.SceneTrees.SceneNode(UInt8[0x83, 0xa6, 0x6f, 0x62, 0x6a, 0x65, 0x63, 0x74, 0x84, 0xaa  …  0x74, 0x2f, 0x74, 0x72, 0x61, 0x6a, 0x2f, 0x73, 0x31, 0x37], nothing, Dict{String, Vector{UInt8}}(), nothing, Dict{String, MeshCat.SceneTrees.SceneNode}())…)), \"vic\" => MeshCat.SceneTrees.SceneNode(UInt8[0x83, 0xa6, 0x6f, 0x62, 0x6a, 0x65, 0x63, 0x74, 0x84, 0xaa  …  0x65, 0x73, 0x68, 0x63, 0x61, 0x74, 0x2f, 0x76, 0x69, 0x63], nothing, Dict{String, Vector{UInt8}}(), nothing, Dict{String, MeshCat.SceneTrees.SceneNode}()), \"target_load\" => MeshCat.SceneTrees.SceneNode(UInt8[0x83, 0xa6, 0x6f, 0x62, 0x6a, 0x65, 0x63, 0x74, 0x84, 0xaa  …  0x61, 0x72, 0x67, 0x65, 0x74, 0x5f, 0x6c, 0x6f, 0x61, 0x64], nothing, Dict{String, Vector{UInt8}}(), nothing, Dict{String, MeshCat.SceneTrees.SceneNode}()), \"load\" => MeshCat.SceneTrees.SceneNode(UInt8[0x83, 0xa6, 0x6f, 0x62, 0x6a, 0x65, 0x63, 0x74, 0x84, 0xaa  …  0x73, 0x68, 0x63, 0x61, 0x74, 0x2f, 0x6c, 0x6f, 0x61, 0x64], nothing, Dict{String, Vector{UInt8}}(), nothing, Dict{String, MeshCat.SceneTrees.SceneNode}()), \"target\" => MeshCat.SceneTrees.SceneNode(UInt8[0x83, 0xa6, 0x6f, 0x62, 0x6a, 0x65, 0x63, 0x74, 0x84, 0xaa  …  0x63, 0x61, 0x74, 0x2f, 0x74, 0x61, 0x72, 0x67, 0x65, 0x74], nothing, Dict{String, Vector{UInt8}}(), nothing, Dict{String, MeshCat.SceneTrees.SceneNode}()))))), Set{HTTP.WebSockets.WebSocket}(), ip\"127.0.0.1\", 8704, HTTP.Servers.Server{HTTP.Servers.Listener{Nothing, Sockets.TCPServer}}(HTTP.Servers.Listener{Nothing, Sockets.TCPServer}(Sockets.InetAddr{Sockets.IPv4}(ip\"127.0.0.1\", 8704), \"127.0.0.1\", \"8704\", nothing, Sockets.TCPServer(RawFD(37) active)), nothing, Set{HTTP.Connections.Connection}(), Task (runnable) @0x00007f80b1c79c30)))"
      ]
     },
     "metadata": {},
     "output_type": "display_data"
    }
   ],
   "source": [
    "display(animate_quadrotor_load(xs, xs, params.model.dt))"
   ]
  },
  {
   "cell_type": "code",
   "execution_count": 41,
   "metadata": {},
   "outputs": [
    {
     "name": "stdout",
     "output_type": "stream",
     "text": []
    }
   ],
   "source": [
    "xsv = vcat(xs...)\n",
    "usv = vcat(us...)\n",
    "plot(t_vec, xsv[1:3], title = \"Position\", label = [\"x\" \"y\" \"z\"], xlabel = \"Time [s]\", ylabel = \"Position [m]\")\n",
    "display(plot!(t_vec, xsv[4:6], title = \"Velocity\", label = [\"vx\" \"vy\" \"vz\"], xlabel = \"Time [s]\", ylabel = \"Velocity [m/s]\"))"
   ]
  },
  {
   "cell_type": "code",
   "execution_count": 45,
   "metadata": {},
   "outputs": [
    {
     "name": "stdout",
     "output_type": "stream",
     "text": [
      "1\n"
     ]
    }
   ],
   "source": [
    "ENV[\"JULIA_NUM_THREADS\"] = 4\n",
    "println(Threads.nthreads())"
   ]
  }
 ],
 "metadata": {
  "kernelspec": {
   "display_name": "Julia 1.9.2",
   "language": "julia",
   "name": "julia-1.9"
  },
  "language_info": {
   "file_extension": ".jl",
   "mimetype": "application/julia",
   "name": "julia",
   "version": "1.9.2"
  }
 },
 "nbformat": 4,
 "nbformat_minor": 2
}
